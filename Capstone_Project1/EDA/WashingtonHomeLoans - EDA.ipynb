{
 "cells": [
  {
   "cell_type": "markdown",
   "metadata": {},
   "source": [
    "# WASHINGTON STATE HOME LOANS 2016"
   ]
  },
  {
   "cell_type": "markdown",
   "metadata": {},
   "source": [
    "## Import the required packages"
   ]
  },
  {
   "cell_type": "code",
   "execution_count": 4,
   "metadata": {
    "collapsed": false
   },
   "outputs": [],
   "source": [
    "%matplotlib inline\n",
    "\n",
    "import pandas as pd\n",
    "import matplotlib.pyplot as plt\n",
    "import seaborn as sns\n",
    "import numpy as np\n",
    "from __future__ import division\n",
    "from scipy import stats"
   ]
  },
  {
   "cell_type": "code",
   "execution_count": 5,
   "metadata": {
    "collapsed": true
   },
   "outputs": [],
   "source": [
    "pathToSaveDF = 'E:/Data Science/SpringBoard DS/Capstone Project 1/Code/Dataset/washington-state-home-mortgage-hdma2016/Washington_State_HDMA-2016-cleaned.csv'"
   ]
  },
  {
   "cell_type": "code",
   "execution_count": 6,
   "metadata": {
    "collapsed": false
   },
   "outputs": [],
   "source": [
    "#Load CSV to dataframe\n",
    "WA_HomeLoan_df_cleaned = pd.read_csv(pathToSaveDF, low_memory=True)"
   ]
  },
  {
   "cell_type": "code",
   "execution_count": 7,
   "metadata": {
    "collapsed": false
   },
   "outputs": [
    {
     "data": {
      "text/html": [
       "<div>\n",
       "<style scoped>\n",
       "    .dataframe tbody tr th:only-of-type {\n",
       "        vertical-align: middle;\n",
       "    }\n",
       "\n",
       "    .dataframe tbody tr th {\n",
       "        vertical-align: top;\n",
       "    }\n",
       "\n",
       "    .dataframe thead th {\n",
       "        text-align: right;\n",
       "    }\n",
       "</style>\n",
       "<table border=\"1\" class=\"dataframe\">\n",
       "  <thead>\n",
       "    <tr style=\"text-align: right;\">\n",
       "      <th></th>\n",
       "      <th>tract_to_msamd_income</th>\n",
       "      <th>population</th>\n",
       "      <th>minority_population</th>\n",
       "      <th>number_of_owner_occupied_units</th>\n",
       "      <th>number_of_1_to_4_family_units</th>\n",
       "      <th>loan_amount_000s</th>\n",
       "      <th>hud_median_family_income</th>\n",
       "      <th>applicant_income_000s</th>\n",
       "      <th>state_name</th>\n",
       "      <th>purchaser_type_name</th>\n",
       "      <th>property_type_name</th>\n",
       "      <th>preapproval_name</th>\n",
       "      <th>owner_occupancy_name</th>\n",
       "      <th>msamd_name</th>\n",
       "      <th>loan_type_name</th>\n",
       "      <th>loan_purpose_name</th>\n",
       "      <th>lien_status_name</th>\n",
       "      <th>hoepa_status_name</th>\n",
       "      <th>county_name</th>\n",
       "      <th>co_applicant_sex_name</th>\n",
       "      <th>co_applicant_ethnicity_name</th>\n",
       "      <th>census_tract_number</th>\n",
       "      <th>as_of_year</th>\n",
       "      <th>application_date_indicator</th>\n",
       "      <th>applicant_sex_name</th>\n",
       "      <th>applicant_ethnicity_name</th>\n",
       "      <th>agency_name</th>\n",
       "      <th>action_taken_name</th>\n",
       "    </tr>\n",
       "  </thead>\n",
       "  <tbody>\n",
       "    <tr>\n",
       "      <th>0</th>\n",
       "      <td>121.690002</td>\n",
       "      <td>8381.0</td>\n",
       "      <td>23.790001</td>\n",
       "      <td>2175.0</td>\n",
       "      <td>2660.0</td>\n",
       "      <td>227</td>\n",
       "      <td>73300.0</td>\n",
       "      <td>116.0</td>\n",
       "      <td>Washington</td>\n",
       "      <td>Freddie Mac (FHLMC)</td>\n",
       "      <td>One-to-four family dwelling (other than manufa...</td>\n",
       "      <td>Not applicable</td>\n",
       "      <td>Owner-occupied as a principal dwelling</td>\n",
       "      <td>Portland, Vancouver, Hillsboro - OR, WA</td>\n",
       "      <td>Conventional</td>\n",
       "      <td>Refinancing</td>\n",
       "      <td>Secured by a first lien</td>\n",
       "      <td>Not a HOEPA loan</td>\n",
       "      <td>Clark County</td>\n",
       "      <td>Male</td>\n",
       "      <td>Not Hispanic or Latino</td>\n",
       "      <td>413.27</td>\n",
       "      <td>2016</td>\n",
       "      <td>0</td>\n",
       "      <td>Female</td>\n",
       "      <td>Not Hispanic or Latino</td>\n",
       "      <td>Consumer Financial Protection Bureau</td>\n",
       "      <td>Loan originated</td>\n",
       "    </tr>\n",
       "    <tr>\n",
       "      <th>1</th>\n",
       "      <td>83.370003</td>\n",
       "      <td>4915.0</td>\n",
       "      <td>23.990000</td>\n",
       "      <td>1268.0</td>\n",
       "      <td>1777.0</td>\n",
       "      <td>240</td>\n",
       "      <td>57900.0</td>\n",
       "      <td>42.0</td>\n",
       "      <td>Washington</td>\n",
       "      <td>Life insurance company, credit union, mortgage...</td>\n",
       "      <td>One-to-four family dwelling (other than manufa...</td>\n",
       "      <td>Not applicable</td>\n",
       "      <td>Owner-occupied as a principal dwelling</td>\n",
       "      <td>Walla Walla - WA</td>\n",
       "      <td>FHA-insured</td>\n",
       "      <td>Home purchase</td>\n",
       "      <td>Secured by a first lien</td>\n",
       "      <td>Not a HOEPA loan</td>\n",
       "      <td>Walla Walla County</td>\n",
       "      <td>No co-applicant</td>\n",
       "      <td>No co-applicant</td>\n",
       "      <td>9208.01</td>\n",
       "      <td>2016</td>\n",
       "      <td>0</td>\n",
       "      <td>Male</td>\n",
       "      <td>Hispanic or Latino</td>\n",
       "      <td>Department of Housing and Urban Development</td>\n",
       "      <td>Loan originated</td>\n",
       "    </tr>\n",
       "    <tr>\n",
       "      <th>2</th>\n",
       "      <td>91.129997</td>\n",
       "      <td>5075.0</td>\n",
       "      <td>11.820000</td>\n",
       "      <td>1136.0</td>\n",
       "      <td>1838.0</td>\n",
       "      <td>241</td>\n",
       "      <td>73300.0</td>\n",
       "      <td>117.0</td>\n",
       "      <td>Washington</td>\n",
       "      <td>Loan was not originated or was not sold in cal...</td>\n",
       "      <td>One-to-four family dwelling (other than manufa...</td>\n",
       "      <td>Not applicable</td>\n",
       "      <td>Owner-occupied as a principal dwelling</td>\n",
       "      <td>Portland, Vancouver, Hillsboro - OR, WA</td>\n",
       "      <td>Conventional</td>\n",
       "      <td>Refinancing</td>\n",
       "      <td>Secured by a first lien</td>\n",
       "      <td>Not a HOEPA loan</td>\n",
       "      <td>Clark County</td>\n",
       "      <td>Female</td>\n",
       "      <td>Not Hispanic or Latino</td>\n",
       "      <td>414.00</td>\n",
       "      <td>2016</td>\n",
       "      <td>0</td>\n",
       "      <td>Male</td>\n",
       "      <td>Not Hispanic or Latino</td>\n",
       "      <td>Department of Housing and Urban Development</td>\n",
       "      <td>Loan originated</td>\n",
       "    </tr>\n",
       "    <tr>\n",
       "      <th>3</th>\n",
       "      <td>146.169998</td>\n",
       "      <td>5032.0</td>\n",
       "      <td>8.590000</td>\n",
       "      <td>1525.0</td>\n",
       "      <td>1820.0</td>\n",
       "      <td>351</td>\n",
       "      <td>73300.0</td>\n",
       "      <td>216.5</td>\n",
       "      <td>Washington</td>\n",
       "      <td>Loan was not originated or was not sold in cal...</td>\n",
       "      <td>One-to-four family dwelling (other than manufa...</td>\n",
       "      <td>Not applicable</td>\n",
       "      <td>Owner-occupied as a principal dwelling</td>\n",
       "      <td>Portland, Vancouver, Hillsboro - OR, WA</td>\n",
       "      <td>Conventional</td>\n",
       "      <td>Refinancing</td>\n",
       "      <td>Secured by a first lien</td>\n",
       "      <td>Not a HOEPA loan</td>\n",
       "      <td>Clark County</td>\n",
       "      <td>Female</td>\n",
       "      <td>Information not provided by applicant in mail,...</td>\n",
       "      <td>405.10</td>\n",
       "      <td>2016</td>\n",
       "      <td>0</td>\n",
       "      <td>Male</td>\n",
       "      <td>Information not provided by applicant in mail,...</td>\n",
       "      <td>National Credit Union Administration</td>\n",
       "      <td>Loan originated</td>\n",
       "    </tr>\n",
       "    <tr>\n",
       "      <th>4</th>\n",
       "      <td>162.470001</td>\n",
       "      <td>5183.0</td>\n",
       "      <td>10.500000</td>\n",
       "      <td>1705.0</td>\n",
       "      <td>2104.0</td>\n",
       "      <td>417</td>\n",
       "      <td>78100.0</td>\n",
       "      <td>114.0</td>\n",
       "      <td>Washington</td>\n",
       "      <td>Freddie Mac (FHLMC)</td>\n",
       "      <td>One-to-four family dwelling (other than manufa...</td>\n",
       "      <td>Not applicable</td>\n",
       "      <td>Owner-occupied as a principal dwelling</td>\n",
       "      <td>Bremerton, Silverdale - WA</td>\n",
       "      <td>Conventional</td>\n",
       "      <td>Home improvement</td>\n",
       "      <td>Secured by a first lien</td>\n",
       "      <td>Not a HOEPA loan</td>\n",
       "      <td>Kitsap County</td>\n",
       "      <td>Male</td>\n",
       "      <td>Not Hispanic or Latino</td>\n",
       "      <td>907.00</td>\n",
       "      <td>2016</td>\n",
       "      <td>0</td>\n",
       "      <td>Female</td>\n",
       "      <td>Not Hispanic or Latino</td>\n",
       "      <td>Federal Deposit Insurance Corporation</td>\n",
       "      <td>Loan originated</td>\n",
       "    </tr>\n",
       "  </tbody>\n",
       "</table>\n",
       "</div>"
      ],
      "text/plain": [
       "   tract_to_msamd_income  population  minority_population  \\\n",
       "0             121.690002      8381.0            23.790001   \n",
       "1              83.370003      4915.0            23.990000   \n",
       "2              91.129997      5075.0            11.820000   \n",
       "3             146.169998      5032.0             8.590000   \n",
       "4             162.470001      5183.0            10.500000   \n",
       "\n",
       "   number_of_owner_occupied_units  number_of_1_to_4_family_units  \\\n",
       "0                          2175.0                         2660.0   \n",
       "1                          1268.0                         1777.0   \n",
       "2                          1136.0                         1838.0   \n",
       "3                          1525.0                         1820.0   \n",
       "4                          1705.0                         2104.0   \n",
       "\n",
       "   loan_amount_000s  hud_median_family_income  applicant_income_000s  \\\n",
       "0               227                   73300.0                  116.0   \n",
       "1               240                   57900.0                   42.0   \n",
       "2               241                   73300.0                  117.0   \n",
       "3               351                   73300.0                  216.5   \n",
       "4               417                   78100.0                  114.0   \n",
       "\n",
       "   state_name                                purchaser_type_name  \\\n",
       "0  Washington                                Freddie Mac (FHLMC)   \n",
       "1  Washington  Life insurance company, credit union, mortgage...   \n",
       "2  Washington  Loan was not originated or was not sold in cal...   \n",
       "3  Washington  Loan was not originated or was not sold in cal...   \n",
       "4  Washington                                Freddie Mac (FHLMC)   \n",
       "\n",
       "                                  property_type_name preapproval_name  \\\n",
       "0  One-to-four family dwelling (other than manufa...   Not applicable   \n",
       "1  One-to-four family dwelling (other than manufa...   Not applicable   \n",
       "2  One-to-four family dwelling (other than manufa...   Not applicable   \n",
       "3  One-to-four family dwelling (other than manufa...   Not applicable   \n",
       "4  One-to-four family dwelling (other than manufa...   Not applicable   \n",
       "\n",
       "                     owner_occupancy_name  \\\n",
       "0  Owner-occupied as a principal dwelling   \n",
       "1  Owner-occupied as a principal dwelling   \n",
       "2  Owner-occupied as a principal dwelling   \n",
       "3  Owner-occupied as a principal dwelling   \n",
       "4  Owner-occupied as a principal dwelling   \n",
       "\n",
       "                                msamd_name loan_type_name loan_purpose_name  \\\n",
       "0  Portland, Vancouver, Hillsboro - OR, WA   Conventional       Refinancing   \n",
       "1                         Walla Walla - WA    FHA-insured     Home purchase   \n",
       "2  Portland, Vancouver, Hillsboro - OR, WA   Conventional       Refinancing   \n",
       "3  Portland, Vancouver, Hillsboro - OR, WA   Conventional       Refinancing   \n",
       "4               Bremerton, Silverdale - WA   Conventional  Home improvement   \n",
       "\n",
       "          lien_status_name hoepa_status_name         county_name  \\\n",
       "0  Secured by a first lien  Not a HOEPA loan        Clark County   \n",
       "1  Secured by a first lien  Not a HOEPA loan  Walla Walla County   \n",
       "2  Secured by a first lien  Not a HOEPA loan        Clark County   \n",
       "3  Secured by a first lien  Not a HOEPA loan        Clark County   \n",
       "4  Secured by a first lien  Not a HOEPA loan       Kitsap County   \n",
       "\n",
       "  co_applicant_sex_name                        co_applicant_ethnicity_name  \\\n",
       "0                  Male                             Not Hispanic or Latino   \n",
       "1       No co-applicant                                    No co-applicant   \n",
       "2                Female                             Not Hispanic or Latino   \n",
       "3                Female  Information not provided by applicant in mail,...   \n",
       "4                  Male                             Not Hispanic or Latino   \n",
       "\n",
       "   census_tract_number  as_of_year  application_date_indicator  \\\n",
       "0               413.27        2016                           0   \n",
       "1              9208.01        2016                           0   \n",
       "2               414.00        2016                           0   \n",
       "3               405.10        2016                           0   \n",
       "4               907.00        2016                           0   \n",
       "\n",
       "  applicant_sex_name                           applicant_ethnicity_name  \\\n",
       "0             Female                             Not Hispanic or Latino   \n",
       "1               Male                                 Hispanic or Latino   \n",
       "2               Male                             Not Hispanic or Latino   \n",
       "3               Male  Information not provided by applicant in mail,...   \n",
       "4             Female                             Not Hispanic or Latino   \n",
       "\n",
       "                                   agency_name action_taken_name  \n",
       "0         Consumer Financial Protection Bureau   Loan originated  \n",
       "1  Department of Housing and Urban Development   Loan originated  \n",
       "2  Department of Housing and Urban Development   Loan originated  \n",
       "3         National Credit Union Administration   Loan originated  \n",
       "4        Federal Deposit Insurance Corporation   Loan originated  "
      ]
     },
     "execution_count": 7,
     "metadata": {},
     "output_type": "execute_result"
    }
   ],
   "source": [
    "# print dataset head\n",
    "pd.set_option('display.max_columns', 50)\n",
    "WA_HomeLoan_df_cleaned.head()"
   ]
  },
  {
   "cell_type": "markdown",
   "metadata": {
    "collapsed": true
   },
   "source": [
    "# Is there a gender bias in loan approval?"
   ]
  },
  {
   "cell_type": "markdown",
   "metadata": {},
   "source": [
    "We can make a hypothesis test to test Gender bias.\n",
    "\n",
    "H0: 𝛒 = 0 There is no gender bias.\n",
    "\n",
    "H1: 𝛒 ≠ 0 There is a gender bias."
   ]
  },
  {
   "cell_type": "code",
   "execution_count": 8,
   "metadata": {
    "collapsed": false
   },
   "outputs": [
    {
     "data": {
      "text/html": [
       "<div>\n",
       "<style scoped>\n",
       "    .dataframe tbody tr th:only-of-type {\n",
       "        vertical-align: middle;\n",
       "    }\n",
       "\n",
       "    .dataframe tbody tr th {\n",
       "        vertical-align: top;\n",
       "    }\n",
       "\n",
       "    .dataframe thead th {\n",
       "        text-align: right;\n",
       "    }\n",
       "</style>\n",
       "<table border=\"1\" class=\"dataframe\">\n",
       "  <thead>\n",
       "    <tr style=\"text-align: right;\">\n",
       "      <th></th>\n",
       "      <th>action_taken_name</th>\n",
       "      <th>applicant_sex_name</th>\n",
       "    </tr>\n",
       "  </thead>\n",
       "  <tbody>\n",
       "    <tr>\n",
       "      <th>1</th>\n",
       "      <td>Loan originated</td>\n",
       "      <td>Male</td>\n",
       "    </tr>\n",
       "    <tr>\n",
       "      <th>2</th>\n",
       "      <td>Loan originated</td>\n",
       "      <td>Male</td>\n",
       "    </tr>\n",
       "    <tr>\n",
       "      <th>3</th>\n",
       "      <td>Loan originated</td>\n",
       "      <td>Male</td>\n",
       "    </tr>\n",
       "    <tr>\n",
       "      <th>5</th>\n",
       "      <td>Loan originated</td>\n",
       "      <td>Male</td>\n",
       "    </tr>\n",
       "    <tr>\n",
       "      <th>6</th>\n",
       "      <td>Loan originated</td>\n",
       "      <td>Male</td>\n",
       "    </tr>\n",
       "  </tbody>\n",
       "</table>\n",
       "</div>"
      ],
      "text/plain": [
       "  action_taken_name applicant_sex_name\n",
       "1   Loan originated               Male\n",
       "2   Loan originated               Male\n",
       "3   Loan originated               Male\n",
       "5   Loan originated               Male\n",
       "6   Loan originated               Male"
      ]
     },
     "execution_count": 8,
     "metadata": {},
     "output_type": "execute_result"
    }
   ],
   "source": [
    "# dataframe for male applicants \n",
    "\n",
    "wa_male = WA_HomeLoan_df_cleaned[WA_HomeLoan_df_cleaned['applicant_sex_name'] == \"Male\"][['action_taken_name', 'applicant_sex_name']]\n",
    "wa_male.head()"
   ]
  },
  {
   "cell_type": "code",
   "execution_count": 9,
   "metadata": {
    "collapsed": false
   },
   "outputs": [
    {
     "data": {
      "text/html": [
       "<div>\n",
       "<style scoped>\n",
       "    .dataframe tbody tr th:only-of-type {\n",
       "        vertical-align: middle;\n",
       "    }\n",
       "\n",
       "    .dataframe tbody tr th {\n",
       "        vertical-align: top;\n",
       "    }\n",
       "\n",
       "    .dataframe thead th {\n",
       "        text-align: right;\n",
       "    }\n",
       "</style>\n",
       "<table border=\"1\" class=\"dataframe\">\n",
       "  <thead>\n",
       "    <tr style=\"text-align: right;\">\n",
       "      <th></th>\n",
       "      <th>action_taken_name</th>\n",
       "      <th>applicant_sex_name</th>\n",
       "    </tr>\n",
       "  </thead>\n",
       "  <tbody>\n",
       "    <tr>\n",
       "      <th>0</th>\n",
       "      <td>Loan originated</td>\n",
       "      <td>Female</td>\n",
       "    </tr>\n",
       "    <tr>\n",
       "      <th>4</th>\n",
       "      <td>Loan originated</td>\n",
       "      <td>Female</td>\n",
       "    </tr>\n",
       "    <tr>\n",
       "      <th>11</th>\n",
       "      <td>Loan originated</td>\n",
       "      <td>Female</td>\n",
       "    </tr>\n",
       "    <tr>\n",
       "      <th>22</th>\n",
       "      <td>Loan originated</td>\n",
       "      <td>Female</td>\n",
       "    </tr>\n",
       "    <tr>\n",
       "      <th>30</th>\n",
       "      <td>Loan originated</td>\n",
       "      <td>Female</td>\n",
       "    </tr>\n",
       "  </tbody>\n",
       "</table>\n",
       "</div>"
      ],
      "text/plain": [
       "   action_taken_name applicant_sex_name\n",
       "0    Loan originated             Female\n",
       "4    Loan originated             Female\n",
       "11   Loan originated             Female\n",
       "22   Loan originated             Female\n",
       "30   Loan originated             Female"
      ]
     },
     "execution_count": 9,
     "metadata": {},
     "output_type": "execute_result"
    }
   ],
   "source": [
    "# dataframe for female applicants \n",
    "\n",
    "wa_female = WA_HomeLoan_df_cleaned[WA_HomeLoan_df_cleaned['applicant_sex_name'] == \"Female\"][['action_taken_name', 'applicant_sex_name']]\n",
    "wa_female.head()"
   ]
  },
  {
   "cell_type": "markdown",
   "metadata": {
    "collapsed": true
   },
   "source": [
    "##### Compute Summary statistics"
   ]
  },
  {
   "cell_type": "code",
   "execution_count": 12,
   "metadata": {
    "collapsed": false
   },
   "outputs": [],
   "source": [
    "# function to calculate mean and variance of population\n",
    "def mean_var(data):\n",
    "    length = len(data)\n",
    "    mean = sum(data.action_taken_name == 'Loan originated')/length\n",
    "    var = mean*(1-mean)\n",
    "    return mean, var"
   ]
  },
  {
   "cell_type": "code",
   "execution_count": 13,
   "metadata": {
    "collapsed": false
   },
   "outputs": [],
   "source": [
    "# female variance and mean\n",
    "mean_female, var_female = mean_var(wa_female)\n",
    "\n",
    "# male variance and mean\n",
    "mean_male, var_male = mean_var(wa_male)"
   ]
  },
  {
   "cell_type": "code",
   "execution_count": 14,
   "metadata": {
    "collapsed": false
   },
   "outputs": [
    {
     "name": "stdout",
     "output_type": "stream",
     "text": [
      "Standard deviation 0.0017404559584812429\n",
      "Mean difference between male and female 0.0136248261597\n"
     ]
    }
   ],
   "source": [
    "# std deviation\n",
    "std_dev = np.sqrt((var_female/len(wa_female))+(var_male/len(wa_male)))\n",
    "\n",
    "# difference in mean\n",
    "mean_diff = mean_male - mean_female\n",
    "print(\"Standard deviation \"+str(std_dev))\n",
    "print(\"Mean difference between male and female \"+str(mean_diff))"
   ]
  },
  {
   "cell_type": "code",
   "execution_count": 15,
   "metadata": {
    "collapsed": false
   },
   "outputs": [
    {
     "name": "stdout",
     "output_type": "stream",
     "text": [
      "T Score 7.828308491978245\n"
     ]
    }
   ],
   "source": [
    "tScore = mean_diff/std_dev\n",
    "print(\"T Score \"+str(tScore))"
   ]
  },
  {
   "cell_type": "code",
   "execution_count": 16,
   "metadata": {
    "collapsed": false
   },
   "outputs": [
    {
     "name": "stdout",
     "output_type": "stream",
     "text": [
      "P Value 5.10702591327572e-15\n"
     ]
    }
   ],
   "source": [
    "# degrees of freedom\n",
    "dof = len(wa_female)+len(wa_male)-2\n",
    "\n",
    "# calculate p-value\n",
    "pValue = 2*(1-stats.t.cdf(tScore, df=dof))\n",
    "print(\"P Value \"+str(pValue))"
   ]
  },
  {
   "cell_type": "markdown",
   "metadata": {
    "collapsed": false
   },
   "source": [
    "** With P-value 5.107 we fail to reject null hypothesis. There is gender bias in loan approval.**"
   ]
  },
  {
   "cell_type": "markdown",
   "metadata": {
    "collapsed": true
   },
   "source": [
    "# Is there a racial bias in loan approval?"
   ]
  },
  {
   "cell_type": "markdown",
   "metadata": {},
   "source": [
    "We can make a hypothesis test to test Gender bias.\n",
    "\n",
    "H0: 𝛒 = 0 There is no racial bias.\n",
    "\n",
    "H1: 𝛒 ≠ 0 There is a racial bias."
   ]
  },
  {
   "cell_type": "code",
   "execution_count": 19,
   "metadata": {
    "collapsed": false
   },
   "outputs": [
    {
     "data": {
      "text/plain": [
       "Not Hispanic or Latino                                                               349777\n",
       "Information not provided by applicant in mail, Internet, or telephone application     60039\n",
       "Not applicable                                                                        33609\n",
       "Hispanic or Latino                                                                    22526\n",
       "Name: applicant_ethnicity_name, dtype: int64"
      ]
     },
     "execution_count": 19,
     "metadata": {},
     "output_type": "execute_result"
    }
   ],
   "source": [
    "WA_HomeLoan_df_cleaned.applicant_ethnicity_name.value_counts()"
   ]
  },
  {
   "cell_type": "code",
   "execution_count": 20,
   "metadata": {
    "collapsed": false
   },
   "outputs": [],
   "source": [
    "wa_AppEthnicity_notLat = WA_HomeLoan_df_cleaned[WA_HomeLoan_df_cleaned['applicant_ethnicity_name'] == 'Not Hispanic or Latino'][['applicant_ethnicity_name', 'action_taken_name']]"
   ]
  },
  {
   "cell_type": "code",
   "execution_count": 22,
   "metadata": {
    "collapsed": false
   },
   "outputs": [],
   "source": [
    "wa_AppEthnicity_Lat = WA_HomeLoan_df_cleaned[WA_HomeLoan_df_cleaned['applicant_ethnicity_name'] == 'Hispanic or Latino'][['applicant_ethnicity_name', 'action_taken_name']]"
   ]
  },
  {
   "cell_type": "code",
   "execution_count": 23,
   "metadata": {
    "collapsed": false
   },
   "outputs": [],
   "source": [
    "# non-latino variance and mean\n",
    "mean_nonLat, var_nonLat = mean_var(wa_AppEthnicity_notLat)\n",
    "\n",
    "# Latino variance and mean\n",
    "mean_Lat, var_Lat = mean_var(wa_AppEthnicity_Lat)"
   ]
  },
  {
   "cell_type": "code",
   "execution_count": 24,
   "metadata": {
    "collapsed": false
   },
   "outputs": [
    {
     "name": "stdout",
     "output_type": "stream",
     "text": [
      "Standard deviation 0.0034127236006591837\n",
      "Mean difference between male and female 0.0567378460583\n"
     ]
    }
   ],
   "source": [
    "# std deviation\n",
    "std_dev_racial = np.sqrt((var_nonLat/len(wa_AppEthnicity_notLat))+(var_Lat/len(wa_AppEthnicity_Lat)))\n",
    "\n",
    "# difference in mean\n",
    "mean_diff_racial = mean_nonLat - mean_Lat\n",
    "print(\"Standard deviation \"+str(std_dev_racial))\n",
    "print(\"Mean difference between male and female \"+str(mean_diff_racial))"
   ]
  },
  {
   "cell_type": "code",
   "execution_count": 25,
   "metadata": {
    "collapsed": false
   },
   "outputs": [
    {
     "name": "stdout",
     "output_type": "stream",
     "text": [
      "T Score 16.625385673598\n"
     ]
    }
   ],
   "source": [
    "tScore_racial = mean_diff_racial/std_dev_racial\n",
    "print(\"T Score \"+str(tScore_racial))"
   ]
  },
  {
   "cell_type": "code",
   "execution_count": 26,
   "metadata": {
    "collapsed": false
   },
   "outputs": [
    {
     "name": "stdout",
     "output_type": "stream",
     "text": [
      "P Value 0.0\n"
     ]
    }
   ],
   "source": [
    "# degrees of freedom\n",
    "dof_racial = len(wa_AppEthnicity_notLat)+len(wa_AppEthnicity_Lat)-2\n",
    "\n",
    "# calculate p-value\n",
    "pValue_racial = 2*(1-stats.t.cdf(tScore_racial, df=dof_racial))\n",
    "print(\"P Value \"+str(pValue_racial))"
   ]
  },
  {
   "cell_type": "markdown",
   "metadata": {},
   "source": [
    "** As P-Value is 0, we can reject null hypothesis. There is no racial bias in loan approval.**"
   ]
  },
  {
   "cell_type": "markdown",
   "metadata": {},
   "source": [
    "## Correlation Between Loan Amount and Applicant Income"
   ]
  },
  {
   "cell_type": "markdown",
   "metadata": {
    "collapsed": true
   },
   "source": [
    "## Pearson correlation Coefficient"
   ]
  },
  {
   "cell_type": "code",
   "execution_count": 27,
   "metadata": {
    "collapsed": false
   },
   "outputs": [
    {
     "name": "stdout",
     "output_type": "stream",
     "text": [
      "Correlation coefficient 0.5589744693255587\n"
     ]
    }
   ],
   "source": [
    "r = np.corrcoef(x=WA_HomeLoan_df_cleaned.applicant_income_000s, y=WA_HomeLoan_df_cleaned.loan_amount_000s)[0][1]\n",
    "print(\"Correlation coefficient \"+str(r))"
   ]
  },
  {
   "cell_type": "markdown",
   "metadata": {
    "collapsed": true
   },
   "source": [
    "**There seems to be no correlation between loan amount and applicant income.**\n",
    "\n",
    "We can make a hypothesis test to test Correlation coefficient.\n",
    "\n",
    "H0: 𝛒 = 0 There is no correlation loan amount and applicant income.\n",
    "\n",
    "H1: 𝛒 ≠ 0 There is a correlation loan amount and applicant income."
   ]
  },
  {
   "cell_type": "code",
   "execution_count": 28,
   "metadata": {
    "collapsed": false
   },
   "outputs": [
    {
     "name": "stdout",
     "output_type": "stream",
     "text": [
      "t statistic value: 460.1609884101976\n",
      "p value : 0.0\n"
     ]
    }
   ],
   "source": [
    "# Pearson’s correlation coefficient follows a t-distribution\n",
    "\n",
    "# formula for test statistic : r * √(n-2)/(1-r**2)\n",
    "n = len(WA_HomeLoan_df_cleaned.applicant_income_000s)\n",
    "t = r * np.sqrt((n-2)/(1-r**2))\n",
    "\n",
    "\n",
    "print('t statistic value: '+str(t))\n",
    "\n",
    "import scipy.stats as stats\n",
    "p = (1-stats.t.cdf(x=t,df=n-2)) * 2 # degree of freedom for pearson coefficient is n-2\n",
    "print('p value : '+str(p))"
   ]
  },
  {
   "cell_type": "code",
   "execution_count": 29,
   "metadata": {
    "collapsed": false
   },
   "outputs": [
    {
     "name": "stdout",
     "output_type": "stream",
     "text": [
      "p value : 0.0\n",
      "r value : 0.5589744693255586\n"
     ]
    }
   ],
   "source": [
    "r,p = stats.pearsonr(WA_HomeLoan_df_cleaned.applicant_income_000s,WA_HomeLoan_df_cleaned.loan_amount_000s)\n",
    "print('p value : '+str(p))\n",
    "print('r value : '+str(r))"
   ]
  },
  {
   "cell_type": "code",
   "execution_count": 30,
   "metadata": {
    "collapsed": false
   },
   "outputs": [
    {
     "name": "stdout",
     "output_type": "stream",
     "text": [
      "confidence interval: (-3.480780898832322, 3.480780898832322)\n",
      "t statistic 460.1609884101976 is very far from CI upper limit 3.480780898832322\n"
     ]
    }
   ],
   "source": [
    "ci = stats.t.interval(alpha=0.9995, df=n-2)\n",
    "print('confidence interval: '+str(ci))\n",
    "print('t statistic '+str(t)+' is very far from CI upper limit '+str(ci[1]))"
   ]
  },
  {
   "cell_type": "markdown",
   "metadata": {},
   "source": [
    "Since pvalue is zero we can reject null hypothesis. There is low chance of getting observed correlation coefficient value."
   ]
  },
  {
   "cell_type": "code",
   "execution_count": 31,
   "metadata": {
    "collapsed": false
   },
   "outputs": [
    {
     "name": "stderr",
     "output_type": "stream",
     "text": [
      "C:\\Users\\Priyanka\\Anaconda2\\lib\\site-packages\\seaborn\\axisgrid.py:2262: UserWarning: The `size` paramter has been renamed to `height`; please update your code.\n",
      "  warnings.warn(msg, UserWarning)\n"
     ]
    },
    {
     "data": {
      "image/png": "[encoded data removed]",
      "text/plain": [
       "<matplotlib.figure.Figure at 0x1155afd0>"
      ]
     },
     "metadata": {},
     "output_type": "display_data"
    }
   ],
   "source": [
    "sns.jointplot('applicant_income_000s', 'loan_amount_000s', data=WA_HomeLoan_df_cleaned,\n",
    "              kind='reg', size=6, scatter_kws={'alpha':0.1})\n",
    "plt.show()"
   ]
  },
  {
   "cell_type": "markdown",
   "metadata": {
    "collapsed": true
   },
   "source": [
    "** From the statistical calculation there is no signifiance between loan amount and applicant income however scatter plot does show some positive correlation between loan amount and applicant income. **"
   ]
  }
 ],
 "metadata": {
  "anaconda-cloud": {},
  "kernelspec": {
   "display_name": "Python [Root]",
   "language": "python",
   "name": "Python [Root]"
  },
  "language_info": {
   "codemirror_mode": {
    "name": "ipython",
    "version": 2
   },
   "file_extension": ".py",
   "mimetype": "text/x-python",
   "name": "python",
   "nbconvert_exporter": "python",
   "pygments_lexer": "ipython2",
   "version": "2.7.12"
  }
 },
 "nbformat": 4,
 "nbformat_minor": 0
}
