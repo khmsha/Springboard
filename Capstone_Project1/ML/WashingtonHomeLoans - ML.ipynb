{
 "cells": [
  {
   "cell_type": "markdown",
   "metadata": {},
   "source": [
    "# WASHINGTON STATE HOME LOANS 2016 - Prediction Model\n",
    "\n",
    "Purpose is to look for -\n",
    "\n",
    "Factors affecting loan approval decisions?\n",
    "\n",
    "Is there any area, ethinicity or gender bias?"
   ]
  },
  {
   "cell_type": "code",
   "execution_count": 1,
   "metadata": {
    "collapsed": true
   },
   "outputs": [],
   "source": [
    "import pandas as pd\n",
    "import numpy as np\n",
    "from sklearn.linear_model import LogisticRegression\n",
    "from sklearn.model_selection import train_test_split\n",
    "import statsmodels.api as sm\n",
    "from sklearn.feature_selection import RFE\n",
    "from sklearn.metrics import classification_report\n",
    "from sklearn.metrics import confusion_matrix\n",
    "from sklearn.metrics import accuracy_score\n",
    "from sklearn.model_selection import GridSearchCV\n",
    "import matplotlib.pyplot as plt\n",
    "from sklearn.metrics import roc_curve\n",
    "from sklearn.metrics import roc_auc_score\n",
    "%matplotlib inline\n",
    "import warnings\n",
    "warnings.filterwarnings('ignore')"
   ]
  },
  {
   "cell_type": "code",
   "execution_count": 2,
   "metadata": {
    "collapsed": true
   },
   "outputs": [],
   "source": [
    "pathOfDataFile = 'E:/Data Science/SpringBoard DS/Capstone Project 1/Code/Dataset/washington-state-home-mortgage-hdma2016/Washington_State_HDMA-2016-cleaned.csv'"
   ]
  },
  {
   "cell_type": "code",
   "execution_count": 3,
   "metadata": {
    "collapsed": true
   },
   "outputs": [],
   "source": [
    "waHomeLoanDF = pd.read_csv(pathOfDataFile, low_memory=True)"
   ]
  },
  {
   "cell_type": "code",
   "execution_count": 4,
   "metadata": {
    "collapsed": false
   },
   "outputs": [
    {
     "data": {
      "text/html": [
       "<div>\n",
       "<style scoped>\n",
       "    .dataframe tbody tr th:only-of-type {\n",
       "        vertical-align: middle;\n",
       "    }\n",
       "\n",
       "    .dataframe tbody tr th {\n",
       "        vertical-align: top;\n",
       "    }\n",
       "\n",
       "    .dataframe thead th {\n",
       "        text-align: right;\n",
       "    }\n",
       "</style>\n",
       "<table border=\"1\" class=\"dataframe\">\n",
       "  <thead>\n",
       "    <tr style=\"text-align: right;\">\n",
       "      <th></th>\n",
       "      <th>tract_to_msamd_income</th>\n",
       "      <th>population</th>\n",
       "      <th>minority_population</th>\n",
       "      <th>number_of_owner_occupied_units</th>\n",
       "      <th>number_of_1_to_4_family_units</th>\n",
       "      <th>loan_amount_000s</th>\n",
       "      <th>hud_median_family_income</th>\n",
       "      <th>applicant_income_000s</th>\n",
       "      <th>state_name</th>\n",
       "      <th>purchaser_type_name</th>\n",
       "      <th>property_type_name</th>\n",
       "      <th>preapproval_name</th>\n",
       "      <th>owner_occupancy_name</th>\n",
       "      <th>msamd_name</th>\n",
       "      <th>loan_type_name</th>\n",
       "      <th>loan_purpose_name</th>\n",
       "      <th>lien_status_name</th>\n",
       "      <th>hoepa_status_name</th>\n",
       "      <th>county_name</th>\n",
       "      <th>co_applicant_sex_name</th>\n",
       "      <th>co_applicant_ethnicity_name</th>\n",
       "      <th>census_tract_number</th>\n",
       "      <th>as_of_year</th>\n",
       "      <th>application_date_indicator</th>\n",
       "      <th>applicant_sex_name</th>\n",
       "      <th>applicant_ethnicity_name</th>\n",
       "      <th>agency_name</th>\n",
       "      <th>action_taken_name</th>\n",
       "    </tr>\n",
       "  </thead>\n",
       "  <tbody>\n",
       "    <tr>\n",
       "      <th>0</th>\n",
       "      <td>121.690002</td>\n",
       "      <td>8381.0</td>\n",
       "      <td>23.790001</td>\n",
       "      <td>2175.0</td>\n",
       "      <td>2660.0</td>\n",
       "      <td>227</td>\n",
       "      <td>73300.0</td>\n",
       "      <td>116.0</td>\n",
       "      <td>Washington</td>\n",
       "      <td>Freddie Mac (FHLMC)</td>\n",
       "      <td>One-to-four family dwelling (other than manufa...</td>\n",
       "      <td>Not applicable</td>\n",
       "      <td>Owner-occupied as a principal dwelling</td>\n",
       "      <td>Portland, Vancouver, Hillsboro - OR, WA</td>\n",
       "      <td>Conventional</td>\n",
       "      <td>Refinancing</td>\n",
       "      <td>Secured by a first lien</td>\n",
       "      <td>Not a HOEPA loan</td>\n",
       "      <td>Clark County</td>\n",
       "      <td>Male</td>\n",
       "      <td>Not Hispanic or Latino</td>\n",
       "      <td>413.27</td>\n",
       "      <td>2016</td>\n",
       "      <td>0</td>\n",
       "      <td>Female</td>\n",
       "      <td>Not Hispanic or Latino</td>\n",
       "      <td>Consumer Financial Protection Bureau</td>\n",
       "      <td>Loan originated</td>\n",
       "    </tr>\n",
       "    <tr>\n",
       "      <th>1</th>\n",
       "      <td>83.370003</td>\n",
       "      <td>4915.0</td>\n",
       "      <td>23.990000</td>\n",
       "      <td>1268.0</td>\n",
       "      <td>1777.0</td>\n",
       "      <td>240</td>\n",
       "      <td>57900.0</td>\n",
       "      <td>42.0</td>\n",
       "      <td>Washington</td>\n",
       "      <td>Life insurance company, credit union, mortgage...</td>\n",
       "      <td>One-to-four family dwelling (other than manufa...</td>\n",
       "      <td>Not applicable</td>\n",
       "      <td>Owner-occupied as a principal dwelling</td>\n",
       "      <td>Walla Walla - WA</td>\n",
       "      <td>FHA-insured</td>\n",
       "      <td>Home purchase</td>\n",
       "      <td>Secured by a first lien</td>\n",
       "      <td>Not a HOEPA loan</td>\n",
       "      <td>Walla Walla County</td>\n",
       "      <td>No co-applicant</td>\n",
       "      <td>No co-applicant</td>\n",
       "      <td>9208.01</td>\n",
       "      <td>2016</td>\n",
       "      <td>0</td>\n",
       "      <td>Male</td>\n",
       "      <td>Hispanic or Latino</td>\n",
       "      <td>Department of Housing and Urban Development</td>\n",
       "      <td>Loan originated</td>\n",
       "    </tr>\n",
       "    <tr>\n",
       "      <th>2</th>\n",
       "      <td>91.129997</td>\n",
       "      <td>5075.0</td>\n",
       "      <td>11.820000</td>\n",
       "      <td>1136.0</td>\n",
       "      <td>1838.0</td>\n",
       "      <td>241</td>\n",
       "      <td>73300.0</td>\n",
       "      <td>117.0</td>\n",
       "      <td>Washington</td>\n",
       "      <td>Loan was not originated or was not sold in cal...</td>\n",
       "      <td>One-to-four family dwelling (other than manufa...</td>\n",
       "      <td>Not applicable</td>\n",
       "      <td>Owner-occupied as a principal dwelling</td>\n",
       "      <td>Portland, Vancouver, Hillsboro - OR, WA</td>\n",
       "      <td>Conventional</td>\n",
       "      <td>Refinancing</td>\n",
       "      <td>Secured by a first lien</td>\n",
       "      <td>Not a HOEPA loan</td>\n",
       "      <td>Clark County</td>\n",
       "      <td>Female</td>\n",
       "      <td>Not Hispanic or Latino</td>\n",
       "      <td>414.00</td>\n",
       "      <td>2016</td>\n",
       "      <td>0</td>\n",
       "      <td>Male</td>\n",
       "      <td>Not Hispanic or Latino</td>\n",
       "      <td>Department of Housing and Urban Development</td>\n",
       "      <td>Loan originated</td>\n",
       "    </tr>\n",
       "    <tr>\n",
       "      <th>3</th>\n",
       "      <td>146.169998</td>\n",
       "      <td>5032.0</td>\n",
       "      <td>8.590000</td>\n",
       "      <td>1525.0</td>\n",
       "      <td>1820.0</td>\n",
       "      <td>351</td>\n",
       "      <td>73300.0</td>\n",
       "      <td>216.5</td>\n",
       "      <td>Washington</td>\n",
       "      <td>Loan was not originated or was not sold in cal...</td>\n",
       "      <td>One-to-four family dwelling (other than manufa...</td>\n",
       "      <td>Not applicable</td>\n",
       "      <td>Owner-occupied as a principal dwelling</td>\n",
       "      <td>Portland, Vancouver, Hillsboro - OR, WA</td>\n",
       "      <td>Conventional</td>\n",
       "      <td>Refinancing</td>\n",
       "      <td>Secured by a first lien</td>\n",
       "      <td>Not a HOEPA loan</td>\n",
       "      <td>Clark County</td>\n",
       "      <td>Female</td>\n",
       "      <td>Information not provided by applicant in mail,...</td>\n",
       "      <td>405.10</td>\n",
       "      <td>2016</td>\n",
       "      <td>0</td>\n",
       "      <td>Male</td>\n",
       "      <td>Information not provided by applicant in mail,...</td>\n",
       "      <td>National Credit Union Administration</td>\n",
       "      <td>Loan originated</td>\n",
       "    </tr>\n",
       "    <tr>\n",
       "      <th>4</th>\n",
       "      <td>162.470001</td>\n",
       "      <td>5183.0</td>\n",
       "      <td>10.500000</td>\n",
       "      <td>1705.0</td>\n",
       "      <td>2104.0</td>\n",
       "      <td>417</td>\n",
       "      <td>78100.0</td>\n",
       "      <td>114.0</td>\n",
       "      <td>Washington</td>\n",
       "      <td>Freddie Mac (FHLMC)</td>\n",
       "      <td>One-to-four family dwelling (other than manufa...</td>\n",
       "      <td>Not applicable</td>\n",
       "      <td>Owner-occupied as a principal dwelling</td>\n",
       "      <td>Bremerton, Silverdale - WA</td>\n",
       "      <td>Conventional</td>\n",
       "      <td>Home improvement</td>\n",
       "      <td>Secured by a first lien</td>\n",
       "      <td>Not a HOEPA loan</td>\n",
       "      <td>Kitsap County</td>\n",
       "      <td>Male</td>\n",
       "      <td>Not Hispanic or Latino</td>\n",
       "      <td>907.00</td>\n",
       "      <td>2016</td>\n",
       "      <td>0</td>\n",
       "      <td>Female</td>\n",
       "      <td>Not Hispanic or Latino</td>\n",
       "      <td>Federal Deposit Insurance Corporation</td>\n",
       "      <td>Loan originated</td>\n",
       "    </tr>\n",
       "  </tbody>\n",
       "</table>\n",
       "</div>"
      ],
      "text/plain": [
       "   tract_to_msamd_income  population  minority_population  \\\n",
       "0             121.690002      8381.0            23.790001   \n",
       "1              83.370003      4915.0            23.990000   \n",
       "2              91.129997      5075.0            11.820000   \n",
       "3             146.169998      5032.0             8.590000   \n",
       "4             162.470001      5183.0            10.500000   \n",
       "\n",
       "   number_of_owner_occupied_units  number_of_1_to_4_family_units  \\\n",
       "0                          2175.0                         2660.0   \n",
       "1                          1268.0                         1777.0   \n",
       "2                          1136.0                         1838.0   \n",
       "3                          1525.0                         1820.0   \n",
       "4                          1705.0                         2104.0   \n",
       "\n",
       "   loan_amount_000s  hud_median_family_income  applicant_income_000s  \\\n",
       "0               227                   73300.0                  116.0   \n",
       "1               240                   57900.0                   42.0   \n",
       "2               241                   73300.0                  117.0   \n",
       "3               351                   73300.0                  216.5   \n",
       "4               417                   78100.0                  114.0   \n",
       "\n",
       "   state_name                                purchaser_type_name  \\\n",
       "0  Washington                                Freddie Mac (FHLMC)   \n",
       "1  Washington  Life insurance company, credit union, mortgage...   \n",
       "2  Washington  Loan was not originated or was not sold in cal...   \n",
       "3  Washington  Loan was not originated or was not sold in cal...   \n",
       "4  Washington                                Freddie Mac (FHLMC)   \n",
       "\n",
       "                                  property_type_name preapproval_name  \\\n",
       "0  One-to-four family dwelling (other than manufa...   Not applicable   \n",
       "1  One-to-four family dwelling (other than manufa...   Not applicable   \n",
       "2  One-to-four family dwelling (other than manufa...   Not applicable   \n",
       "3  One-to-four family dwelling (other than manufa...   Not applicable   \n",
       "4  One-to-four family dwelling (other than manufa...   Not applicable   \n",
       "\n",
       "                     owner_occupancy_name  \\\n",
       "0  Owner-occupied as a principal dwelling   \n",
       "1  Owner-occupied as a principal dwelling   \n",
       "2  Owner-occupied as a principal dwelling   \n",
       "3  Owner-occupied as a principal dwelling   \n",
       "4  Owner-occupied as a principal dwelling   \n",
       "\n",
       "                                msamd_name loan_type_name loan_purpose_name  \\\n",
       "0  Portland, Vancouver, Hillsboro - OR, WA   Conventional       Refinancing   \n",
       "1                         Walla Walla - WA    FHA-insured     Home purchase   \n",
       "2  Portland, Vancouver, Hillsboro - OR, WA   Conventional       Refinancing   \n",
       "3  Portland, Vancouver, Hillsboro - OR, WA   Conventional       Refinancing   \n",
       "4               Bremerton, Silverdale - WA   Conventional  Home improvement   \n",
       "\n",
       "          lien_status_name hoepa_status_name         county_name  \\\n",
       "0  Secured by a first lien  Not a HOEPA loan        Clark County   \n",
       "1  Secured by a first lien  Not a HOEPA loan  Walla Walla County   \n",
       "2  Secured by a first lien  Not a HOEPA loan        Clark County   \n",
       "3  Secured by a first lien  Not a HOEPA loan        Clark County   \n",
       "4  Secured by a first lien  Not a HOEPA loan       Kitsap County   \n",
       "\n",
       "  co_applicant_sex_name                        co_applicant_ethnicity_name  \\\n",
       "0                  Male                             Not Hispanic or Latino   \n",
       "1       No co-applicant                                    No co-applicant   \n",
       "2                Female                             Not Hispanic or Latino   \n",
       "3                Female  Information not provided by applicant in mail,...   \n",
       "4                  Male                             Not Hispanic or Latino   \n",
       "\n",
       "   census_tract_number  as_of_year  application_date_indicator  \\\n",
       "0               413.27        2016                           0   \n",
       "1              9208.01        2016                           0   \n",
       "2               414.00        2016                           0   \n",
       "3               405.10        2016                           0   \n",
       "4               907.00        2016                           0   \n",
       "\n",
       "  applicant_sex_name                           applicant_ethnicity_name  \\\n",
       "0             Female                             Not Hispanic or Latino   \n",
       "1               Male                                 Hispanic or Latino   \n",
       "2               Male                             Not Hispanic or Latino   \n",
       "3               Male  Information not provided by applicant in mail,...   \n",
       "4             Female                             Not Hispanic or Latino   \n",
       "\n",
       "                                   agency_name action_taken_name  \n",
       "0         Consumer Financial Protection Bureau   Loan originated  \n",
       "1  Department of Housing and Urban Development   Loan originated  \n",
       "2  Department of Housing and Urban Development   Loan originated  \n",
       "3         National Credit Union Administration   Loan originated  \n",
       "4        Federal Deposit Insurance Corporation   Loan originated  "
      ]
     },
     "execution_count": 4,
     "metadata": {},
     "output_type": "execute_result"
    }
   ],
   "source": [
    "pd.set_option('display.max_columns', 50)\n",
    "waHomeLoanDF.head()"
   ]
  },
  {
   "cell_type": "code",
   "execution_count": 5,
   "metadata": {
    "collapsed": false
   },
   "outputs": [
    {
     "name": "stdout",
     "output_type": "stream",
     "text": [
      "<class 'pandas.core.frame.DataFrame'>\n",
      "RangeIndex: 465951 entries, 0 to 465950\n",
      "Data columns (total 28 columns):\n",
      "tract_to_msamd_income             465951 non-null float64\n",
      "population                        465951 non-null float64\n",
      "minority_population               465951 non-null float64\n",
      "number_of_owner_occupied_units    465951 non-null float64\n",
      "number_of_1_to_4_family_units     465951 non-null float64\n",
      "loan_amount_000s                  465951 non-null int64\n",
      "hud_median_family_income          465951 non-null float64\n",
      "applicant_income_000s             465951 non-null float64\n",
      "state_name                        465951 non-null object\n",
      "purchaser_type_name               465951 non-null object\n",
      "property_type_name                465951 non-null object\n",
      "preapproval_name                  465951 non-null object\n",
      "owner_occupancy_name              465951 non-null object\n",
      "msamd_name                        465951 non-null object\n",
      "loan_type_name                    465951 non-null object\n",
      "loan_purpose_name                 465951 non-null object\n",
      "lien_status_name                  465951 non-null object\n",
      "hoepa_status_name                 465951 non-null object\n",
      "county_name                       465951 non-null object\n",
      "co_applicant_sex_name             465951 non-null object\n",
      "co_applicant_ethnicity_name       465951 non-null object\n",
      "census_tract_number               465951 non-null float64\n",
      "as_of_year                        465951 non-null int64\n",
      "application_date_indicator        465951 non-null int64\n",
      "applicant_sex_name                465951 non-null object\n",
      "applicant_ethnicity_name          465951 non-null object\n",
      "agency_name                       465951 non-null object\n",
      "action_taken_name                 465951 non-null object\n",
      "dtypes: float64(8), int64(3), object(17)\n",
      "memory usage: 99.5+ MB\n"
     ]
    }
   ],
   "source": [
    "waHomeLoanDF.info()"
   ]
  },
  {
   "cell_type": "code",
   "execution_count": 6,
   "metadata": {
    "collapsed": false
   },
   "outputs": [
    {
     "data": {
      "text/plain": [
       "Department of Housing and Urban Development    238231\n",
       "Consumer Financial Protection Bureau           142499\n",
       "Federal Deposit Insurance Corporation           45978\n",
       "National Credit Union Administration            30418\n",
       "Office of the Comptroller of the Currency        5581\n",
       "Federal Reserve System                           3244\n",
       "Name: agency_name, dtype: int64"
      ]
     },
     "execution_count": 6,
     "metadata": {},
     "output_type": "execute_result"
    }
   ],
   "source": [
    "waHomeLoanDF.agency_name.value_counts()"
   ]
  },
  {
   "cell_type": "markdown",
   "metadata": {},
   "source": [
    "### Inspect action_taken_name"
   ]
  },
  {
   "cell_type": "code",
   "execution_count": 7,
   "metadata": {
    "collapsed": false
   },
   "outputs": [
    {
     "data": {
      "text/plain": [
       "Loan originated                                        263650\n",
       "Application denied by financial institution             64006\n",
       "Application withdrawn by applicant                      60121\n",
       "Loan purchased by the institution                       48336\n",
       "File closed for incompleteness                          18119\n",
       "Application approved but not accepted                   11706\n",
       "Preapproval request approved but not accepted              10\n",
       "Preapproval request denied by financial institution         3\n",
       "Name: action_taken_name, dtype: int64"
      ]
     },
     "execution_count": 7,
     "metadata": {},
     "output_type": "execute_result"
    }
   ],
   "source": [
    "waHomeLoanDF.action_taken_name.value_counts()"
   ]
  },
  {
   "cell_type": "markdown",
   "metadata": {},
   "source": [
    "'Preapproval request approved but not accepted' and 'Preapproval request denied by financial institution' have very few entries and will be removed."
   ]
  },
  {
   "cell_type": "code",
   "execution_count": 8,
   "metadata": {
    "collapsed": false
   },
   "outputs": [],
   "source": [
    "waHomeLoanDF = waHomeLoanDF[~waHomeLoanDF.action_taken_name.isin(['Application withdrawn by applicant', \n",
    "                                                                'Preapproval request approved but not accepted', \n",
    "                                                                'Preapproval request denied by financial institution'])]"
   ]
  },
  {
   "cell_type": "code",
   "execution_count": 9,
   "metadata": {
    "collapsed": false
   },
   "outputs": [
    {
     "data": {
      "text/plain": [
       "Loan originated                                263650\n",
       "Application denied by financial institution     64006\n",
       "Loan purchased by the institution               48336\n",
       "File closed for incompleteness                  18119\n",
       "Application approved but not accepted           11706\n",
       "Name: action_taken_name, dtype: int64"
      ]
     },
     "execution_count": 9,
     "metadata": {},
     "output_type": "execute_result"
    }
   ],
   "source": [
    "waHomeLoanDF.action_taken_name.value_counts()"
   ]
  },
  {
   "cell_type": "markdown",
   "metadata": {},
   "source": [
    "### Add new column for loan approval with binary values"
   ]
  },
  {
   "cell_type": "code",
   "execution_count": 10,
   "metadata": {
    "collapsed": false
   },
   "outputs": [],
   "source": [
    "# function to set 'Loan originated' and 'Loan purchased by the institution' to one and loan denial to 0\n",
    "def actionTakenBinaryConv(x):\n",
    "    if x == 'Loan originated':\n",
    "        return 1\n",
    "    elif x == 'Loan purchased by the institution':\n",
    "        return 1\n",
    "    else:\n",
    "        return 0"
   ]
  },
  {
   "cell_type": "code",
   "execution_count": 11,
   "metadata": {
    "collapsed": false
   },
   "outputs": [],
   "source": [
    "#add new column for loan approval\n",
    "waHomeLoanDF['loan_approval'] = waHomeLoanDF.action_taken_name.apply(actionTakenBinaryConv)"
   ]
  },
  {
   "cell_type": "code",
   "execution_count": 12,
   "metadata": {
    "collapsed": false
   },
   "outputs": [
    {
     "data": {
      "text/plain": [
       "1    311986\n",
       "0     93831\n",
       "Name: loan_approval, dtype: int64"
      ]
     },
     "execution_count": 12,
     "metadata": {},
     "output_type": "execute_result"
    }
   ],
   "source": [
    "#inspect loan approval\n",
    "waHomeLoanDF.loan_approval.value_counts()"
   ]
  },
  {
   "cell_type": "markdown",
   "metadata": {
    "collapsed": true
   },
   "source": [
    "### Convert features to binary values\n",
    "1. property_type_name\n",
    "2. owner_occupancy_name\n",
    "3. loan_purpose_name\n",
    "4. preapproval_name"
   ]
  },
  {
   "cell_type": "markdown",
   "metadata": {},
   "source": [
    "Add a list to include all the colums and then another list to include cloumns to be deleted. Then inspect the columns that hava object and convert them to binary. Print all converted binary values."
   ]
  },
  {
   "cell_type": "code",
   "execution_count": 13,
   "metadata": {
    "collapsed": false
   },
   "outputs": [],
   "source": [
    "# function to convert columns to binary values\n",
    "def applyBinary(feature):\n",
    "    featureValList = feature.value_counts().index\n",
    "    for i in range(len(featureValList)):\n",
    "        feature.replace(featureValList[i], i, inplace=True)"
   ]
  },
  {
   "cell_type": "code",
   "execution_count": 14,
   "metadata": {
    "collapsed": false
   },
   "outputs": [
    {
     "data": {
      "text/plain": [
       "Owner-occupied as a principal dwelling        370247\n",
       "Not owner-occupied as a principal dwelling     33941\n",
       "Not applicable                                  1629\n",
       "Name: owner_occupancy_name, dtype: int64"
      ]
     },
     "execution_count": 14,
     "metadata": {},
     "output_type": "execute_result"
    }
   ],
   "source": [
    "#inspect owner occupany\n",
    "waHomeLoanDF.owner_occupancy_name.value_counts()"
   ]
  },
  {
   "cell_type": "markdown",
   "metadata": {},
   "source": [
    "Remove Not applicable values"
   ]
  },
  {
   "cell_type": "code",
   "execution_count": 15,
   "metadata": {
    "collapsed": true
   },
   "outputs": [],
   "source": [
    "waHomeLoanDF = waHomeLoanDF[waHomeLoanDF.owner_occupancy_name != 'Not applicable']"
   ]
  },
  {
   "cell_type": "code",
   "execution_count": 16,
   "metadata": {
    "collapsed": true
   },
   "outputs": [],
   "source": [
    "applyBinary(waHomeLoanDF.owner_occupancy_name)"
   ]
  },
  {
   "cell_type": "code",
   "execution_count": 17,
   "metadata": {
    "collapsed": false
   },
   "outputs": [
    {
     "data": {
      "text/plain": [
       "0    370247\n",
       "1     33941\n",
       "Name: owner_occupancy_name, dtype: int64"
      ]
     },
     "execution_count": 17,
     "metadata": {},
     "output_type": "execute_result"
    }
   ],
   "source": [
    "#inspect owner occupany\n",
    "waHomeLoanDF.owner_occupancy_name.value_counts()"
   ]
  },
  {
   "cell_type": "code",
   "execution_count": 18,
   "metadata": {
    "collapsed": false
   },
   "outputs": [
    {
     "data": {
      "text/plain": [
       "One-to-four family dwelling (other than manufactured housing)    391395\n",
       "Manufactured housing                                              12593\n",
       "Multifamily dwelling                                                200\n",
       "Name: property_type_name, dtype: int64"
      ]
     },
     "execution_count": 18,
     "metadata": {},
     "output_type": "execute_result"
    }
   ],
   "source": [
    "#inspect property_type_name\n",
    "waHomeLoanDF.property_type_name.value_counts()"
   ]
  },
  {
   "cell_type": "code",
   "execution_count": 19,
   "metadata": {
    "collapsed": false
   },
   "outputs": [],
   "source": [
    "applyBinary(waHomeLoanDF.property_type_name)"
   ]
  },
  {
   "cell_type": "code",
   "execution_count": 20,
   "metadata": {
    "collapsed": false
   },
   "outputs": [
    {
     "data": {
      "text/plain": [
       "0    391395\n",
       "1     12593\n",
       "2       200\n",
       "Name: property_type_name, dtype: int64"
      ]
     },
     "execution_count": 20,
     "metadata": {},
     "output_type": "execute_result"
    }
   ],
   "source": [
    "#inspect property_type_name\n",
    "waHomeLoanDF.property_type_name.value_counts()"
   ]
  },
  {
   "cell_type": "code",
   "execution_count": 21,
   "metadata": {
    "collapsed": false
   },
   "outputs": [
    {
     "data": {
      "text/plain": [
       "Refinancing         212683\n",
       "Home purchase       170310\n",
       "Home improvement     21195\n",
       "Name: loan_purpose_name, dtype: int64"
      ]
     },
     "execution_count": 21,
     "metadata": {},
     "output_type": "execute_result"
    }
   ],
   "source": [
    "#inspect loan_purpose_name\n",
    "waHomeLoanDF.loan_purpose_name.value_counts()"
   ]
  },
  {
   "cell_type": "code",
   "execution_count": 22,
   "metadata": {
    "collapsed": false
   },
   "outputs": [],
   "source": [
    "applyBinary(waHomeLoanDF.loan_purpose_name)"
   ]
  },
  {
   "cell_type": "code",
   "execution_count": 23,
   "metadata": {
    "collapsed": false
   },
   "outputs": [
    {
     "data": {
      "text/plain": [
       "0    212683\n",
       "1    170310\n",
       "2     21195\n",
       "Name: loan_purpose_name, dtype: int64"
      ]
     },
     "execution_count": 23,
     "metadata": {},
     "output_type": "execute_result"
    }
   ],
   "source": [
    "#inspect loan_purpose_name\n",
    "waHomeLoanDF.loan_purpose_name.value_counts()"
   ]
  },
  {
   "cell_type": "code",
   "execution_count": 24,
   "metadata": {
    "collapsed": false
   },
   "outputs": [
    {
     "data": {
      "text/plain": [
       "Not applicable                   344494\n",
       "Preapproval was not requested     49476\n",
       "Preapproval was requested         10218\n",
       "Name: preapproval_name, dtype: int64"
      ]
     },
     "execution_count": 24,
     "metadata": {},
     "output_type": "execute_result"
    }
   ],
   "source": [
    "#inspect preapproval_name\n",
    "waHomeLoanDF.preapproval_name.value_counts()"
   ]
  },
  {
   "cell_type": "code",
   "execution_count": 25,
   "metadata": {
    "collapsed": true
   },
   "outputs": [],
   "source": [
    "applyBinary(waHomeLoanDF.preapproval_name)"
   ]
  },
  {
   "cell_type": "code",
   "execution_count": 26,
   "metadata": {
    "collapsed": false
   },
   "outputs": [
    {
     "data": {
      "text/plain": [
       "0    344494\n",
       "1     49476\n",
       "2     10218\n",
       "Name: preapproval_name, dtype: int64"
      ]
     },
     "execution_count": 26,
     "metadata": {},
     "output_type": "execute_result"
    }
   ],
   "source": [
    "#inspect preapproval_name\n",
    "waHomeLoanDF.preapproval_name.value_counts()"
   ]
  },
  {
   "cell_type": "code",
   "execution_count": 27,
   "metadata": {
    "collapsed": true
   },
   "outputs": [],
   "source": [
    "applyBinary(waHomeLoanDF.purchaser_type_name)\n",
    "applyBinary(waHomeLoanDF.msamd_name)\n",
    "applyBinary(waHomeLoanDF.loan_type_name)\n",
    "applyBinary(waHomeLoanDF.lien_status_name)\n",
    "applyBinary(waHomeLoanDF.hoepa_status_name)\n",
    "applyBinary(waHomeLoanDF.county_name)\n",
    "applyBinary(waHomeLoanDF.applicant_sex_name)\n",
    "applyBinary(waHomeLoanDF.applicant_ethnicity_name)\n",
    "applyBinary(waHomeLoanDF.agency_name)"
   ]
  },
  {
   "cell_type": "code",
   "execution_count": 28,
   "metadata": {
    "collapsed": true
   },
   "outputs": [],
   "source": [
    "applyBinary(waHomeLoanDF.co_applicant_sex_name)\n",
    "applyBinary(waHomeLoanDF.co_applicant_ethnicity_name)"
   ]
  },
  {
   "cell_type": "code",
   "execution_count": 29,
   "metadata": {
    "collapsed": false
   },
   "outputs": [
    {
     "data": {
      "text/plain": [
       "0    158280\n",
       "1     75840\n",
       "2     60791\n",
       "3     51708\n",
       "4     21485\n",
       "5     18253\n",
       "6     11918\n",
       "7      3984\n",
       "8      1911\n",
       "9        18\n",
       "Name: purchaser_type_name, dtype: int64"
      ]
     },
     "execution_count": 29,
     "metadata": {},
     "output_type": "execute_result"
    }
   ],
   "source": [
    "waHomeLoanDF.purchaser_type_name.value_counts()"
   ]
  },
  {
   "cell_type": "code",
   "execution_count": 30,
   "metadata": {
    "collapsed": false
   },
   "outputs": [
    {
     "data": {
      "text/plain": [
       "0     172417\n",
       "1      52760\n",
       "2      37986\n",
       "3      34841\n",
       "4      15645\n",
       "5      15612\n",
       "6      14707\n",
       "7      12118\n",
       "8      11132\n",
       "9       9997\n",
       "10      9872\n",
       "11      6868\n",
       "12      6654\n",
       "13      2668\n",
       "14       911\n",
       "Name: msamd_name, dtype: int64"
      ]
     },
     "execution_count": 30,
     "metadata": {},
     "output_type": "execute_result"
    }
   ],
   "source": [
    "waHomeLoanDF.msamd_name.value_counts()"
   ]
  },
  {
   "cell_type": "code",
   "execution_count": 31,
   "metadata": {
    "collapsed": false
   },
   "outputs": [
    {
     "data": {
      "text/plain": [
       "0    287406\n",
       "1     58146\n",
       "2     54639\n",
       "3      3997\n",
       "Name: loan_type_name, dtype: int64"
      ]
     },
     "execution_count": 31,
     "metadata": {},
     "output_type": "execute_result"
    }
   ],
   "source": [
    "waHomeLoanDF.loan_type_name.value_counts()"
   ]
  },
  {
   "cell_type": "code",
   "execution_count": 32,
   "metadata": {
    "collapsed": false
   },
   "outputs": [
    {
     "data": {
      "text/plain": [
       "0    343013\n",
       "1     48163\n",
       "2      7876\n",
       "3      5136\n",
       "Name: lien_status_name, dtype: int64"
      ]
     },
     "execution_count": 32,
     "metadata": {},
     "output_type": "execute_result"
    }
   ],
   "source": [
    "waHomeLoanDF.lien_status_name.value_counts()"
   ]
  },
  {
   "cell_type": "code",
   "execution_count": 33,
   "metadata": {
    "collapsed": false
   },
   "outputs": [
    {
     "data": {
      "text/plain": [
       "0    404175\n",
       "1        13\n",
       "Name: hoepa_status_name, dtype: int64"
      ]
     },
     "execution_count": 33,
     "metadata": {},
     "output_type": "execute_result"
    }
   ],
   "source": [
    "waHomeLoanDF.hoepa_status_name.value_counts()"
   ]
  },
  {
   "cell_type": "code",
   "execution_count": 34,
   "metadata": {
    "collapsed": false
   },
   "outputs": [
    {
     "data": {
      "text/plain": [
       "0     119845\n",
       "1      52760\n",
       "2      51134\n",
       "3      33203\n",
       "4      25585\n",
       "5      15531\n",
       "6      15241\n",
       "7      11078\n",
       "8       9975\n",
       "9       8549\n",
       "10      6850\n",
       "11      6100\n",
       "12      5881\n",
       "13      3929\n",
       "14      3666\n",
       "15      3328\n",
       "16      3282\n",
       "17      3107\n",
       "18      3102\n",
       "19      2895\n",
       "20      2550\n",
       "21      2442\n",
       "22      1860\n",
       "23      1812\n",
       "24      1578\n",
       "25      1252\n",
       "26      1169\n",
       "27      1002\n",
       "28       911\n",
       "29       818\n",
       "30       802\n",
       "31       693\n",
       "32       624\n",
       "33       539\n",
       "34       463\n",
       "35       226\n",
       "36       209\n",
       "37       118\n",
       "38        79\n",
       "Name: county_name, dtype: int64"
      ]
     },
     "execution_count": 34,
     "metadata": {},
     "output_type": "execute_result"
    }
   ],
   "source": [
    "waHomeLoanDF.county_name.value_counts()"
   ]
  },
  {
   "cell_type": "code",
   "execution_count": 35,
   "metadata": {
    "collapsed": false
   },
   "outputs": [
    {
     "data": {
      "text/plain": [
       "0    244321\n",
       "1     94739\n",
       "2     33088\n",
       "3     32040\n",
       "Name: applicant_sex_name, dtype: int64"
      ]
     },
     "execution_count": 35,
     "metadata": {},
     "output_type": "execute_result"
    }
   ],
   "source": [
    "waHomeLoanDF.applicant_sex_name.value_counts()"
   ]
  },
  {
   "cell_type": "code",
   "execution_count": 36,
   "metadata": {
    "collapsed": false
   },
   "outputs": [
    {
     "data": {
      "text/plain": [
       "0    301997\n",
       "1     50827\n",
       "2     32089\n",
       "3     19275\n",
       "Name: applicant_ethnicity_name, dtype: int64"
      ]
     },
     "execution_count": 36,
     "metadata": {},
     "output_type": "execute_result"
    }
   ],
   "source": [
    "waHomeLoanDF.applicant_ethnicity_name.value_counts()"
   ]
  },
  {
   "cell_type": "code",
   "execution_count": 37,
   "metadata": {
    "collapsed": false
   },
   "outputs": [
    {
     "data": {
      "text/plain": [
       "0    202882\n",
       "1    127555\n",
       "2     39239\n",
       "3     26753\n",
       "4      4763\n",
       "5      2996\n",
       "Name: agency_name, dtype: int64"
      ]
     },
     "execution_count": 37,
     "metadata": {},
     "output_type": "execute_result"
    }
   ],
   "source": [
    "waHomeLoanDF.agency_name.value_counts()"
   ]
  },
  {
   "cell_type": "code",
   "execution_count": 38,
   "metadata": {
    "collapsed": false
   },
   "outputs": [
    {
     "data": {
      "text/plain": [
       "0    179679\n",
       "1    141918\n",
       "2     34628\n",
       "3     28343\n",
       "4     19620\n",
       "Name: co_applicant_sex_name, dtype: int64"
      ]
     },
     "execution_count": 38,
     "metadata": {},
     "output_type": "execute_result"
    }
   ],
   "source": [
    "waHomeLoanDF.co_applicant_sex_name.value_counts()"
   ]
  },
  {
   "cell_type": "code",
   "execution_count": 39,
   "metadata": {
    "collapsed": false
   },
   "outputs": [
    {
     "data": {
      "text/plain": [
       "0    179679\n",
       "1    156350\n",
       "2     30324\n",
       "3     28375\n",
       "4      9460\n",
       "Name: co_applicant_ethnicity_name, dtype: int64"
      ]
     },
     "execution_count": 39,
     "metadata": {},
     "output_type": "execute_result"
    }
   ],
   "source": [
    "waHomeLoanDF.co_applicant_ethnicity_name.value_counts()"
   ]
  },
  {
   "cell_type": "markdown",
   "metadata": {},
   "source": [
    "## Model Prediction"
   ]
  },
  {
   "cell_type": "markdown",
   "metadata": {},
   "source": [
    "Following are the features considered for generalized linear model\n",
    "tract_to_msamd_income\n",
    "loan_amount_000s\n",
    "applicant_income_000s\n",
    "property_type_name\n",
    "owner_occupancy_name\n",
    "loan_purpose_name\n",
    "population\n",
    "number_of_owner_occupied_units\n",
    "number_of_1_to_4_family_units\n",
    "census_tract_number\n",
    "preapproval_name"
   ]
  },
  {
   "cell_type": "code",
   "execution_count": 40,
   "metadata": {
    "collapsed": false
   },
   "outputs": [
    {
     "name": "stdout",
     "output_type": "stream",
     "text": [
      "['tract_to_msamd_income', 'population', 'minority_population', 'number_of_owner_occupied_units', 'number_of_1_to_4_family_units', 'loan_amount_000s', 'hud_median_family_income', 'applicant_income_000s', 'purchaser_type_name', 'property_type_name', 'preapproval_name', 'owner_occupancy_name', 'msamd_name', 'loan_type_name', 'loan_purpose_name', 'lien_status_name', 'hoepa_status_name', 'county_name', 'co_applicant_sex_name', 'co_applicant_ethnicity_name', 'census_tract_number', 'application_date_indicator', 'applicant_sex_name', 'applicant_ethnicity_name', 'agency_name']\n"
     ]
    }
   ],
   "source": [
    "features = list(waHomeLoanDF.columns.values)\n",
    "features.remove('state_name')\n",
    "features.remove('as_of_year')\n",
    "features.remove('loan_approval')\n",
    "features.remove('action_taken_name')\n",
    "print(features)"
   ]
  },
  {
   "cell_type": "code",
   "execution_count": 77,
   "metadata": {
    "collapsed": false
   },
   "outputs": [
    {
     "name": "stdout",
     "output_type": "stream",
     "text": [
      "Number of features 25\n",
      "Selected features [ True  True  True  True  True  True  True  True  True  True  True  True\n",
      "  True  True  True  True  True  True  True  True  True  True  True  True\n",
      "  True]\n",
      "Feature rank [1 1 1 1 1 1 1 1 1 1 1 1 1 1 1 1 1 1 1 1 1 1 1 1 1]\n",
      "Best parameter is 10 with score is 0.87649296428\n",
      "Test data accuracy score with GridSearchCV: 0.891140305302\n",
      "              precision    recall  f1-score   support\n",
      "\n",
      "           0       0.78      0.73      0.76     18723\n",
      "           1       0.92      0.94      0.93     62115\n",
      "\n",
      "   micro avg       0.89      0.89      0.89     80838\n",
      "   macro avg       0.85      0.84      0.84     80838\n",
      "weighted avg       0.89      0.89      0.89     80838\n",
      "\n",
      "()\n",
      "Confusion matrix\n",
      "[[13729  4994]\n",
      " [ 3806 58309]]\n",
      "()\n",
      "print Area Under curve score\n",
      "0.9547506395740226\n"
     ]
    },
    {
     "data": {
      "image/png": "[encoded data removed]",
      "text/plain": [
       "<matplotlib.figure.Figure at 0x43ad7f0>"
      ]
     },
     "metadata": {},
     "output_type": "display_data"
    },
    {
     "name": "stdout",
     "output_type": "stream",
     "text": [
      "Number of features 24\n",
      "Selected features [ True  True  True  True  True  True False  True  True  True  True  True\n",
      "  True  True  True  True  True  True  True  True  True  True  True  True\n",
      "  True]\n",
      "Feature rank [1 1 1 1 1 1 2 1 1 1 1 1 1 1 1 1 1 1 1 1 1 1 1 1 1]\n",
      "Best parameter is 1 with score is 0.897164063708\n",
      "Test data accuracy score with GridSearchCV: 0.895321507212\n",
      "              precision    recall  f1-score   support\n",
      "\n",
      "           0       0.75      0.83      0.79     18723\n",
      "           1       0.95      0.91      0.93     62115\n",
      "\n",
      "   micro avg       0.90      0.90      0.90     80838\n",
      "   macro avg       0.85      0.87      0.86     80838\n",
      "weighted avg       0.90      0.90      0.90     80838\n",
      "\n",
      "()\n",
      "Confusion matrix\n",
      "[[15541  3182]\n",
      " [ 5280 56835]]\n",
      "()\n",
      "print Area Under curve score\n",
      "0.9591784919754515\n"
     ]
    },
    {
     "data": {
      "image/png": "[encoded data removed]",
      "text/plain": [
       "<matplotlib.figure.Figure at 0x23c6c320>"
      ]
     },
     "metadata": {},
     "output_type": "display_data"
    },
    {
     "name": "stdout",
     "output_type": "stream",
     "text": [
      "Number of features 23\n",
      "Selected features [ True  True  True  True  True  True False  True  True  True  True  True\n",
      "  True  True  True  True  True  True  True  True False  True  True  True\n",
      "  True]\n",
      "Feature rank [1 1 1 1 1 1 3 1 1 1 1 1 1 1 1 1 1 1 1 1 2 1 1 1 1]\n",
      "Best parameter is 10 with score is 0.897151693212\n",
      "Test data accuracy score with GridSearchCV: 0.896076102823\n",
      "              precision    recall  f1-score   support\n",
      "\n",
      "           0       0.75      0.82      0.79     18723\n",
      "           1       0.94      0.92      0.93     62115\n",
      "\n",
      "   micro avg       0.90      0.90      0.90     80838\n",
      "   macro avg       0.85      0.87      0.86     80838\n",
      "weighted avg       0.90      0.90      0.90     80838\n",
      "\n",
      "()\n",
      "Confusion matrix\n",
      "[[15349  3374]\n",
      " [ 5027 57088]]\n",
      "()\n",
      "print Area Under curve score\n",
      "0.9585288990715306\n"
     ]
    },
    {
     "data": {
      "image/png": "[encoded data removed]",
      "text/plain": [
       "<matplotlib.figure.Figure at 0x23c6c5f8>"
      ]
     },
     "metadata": {},
     "output_type": "display_data"
    },
    {
     "name": "stdout",
     "output_type": "stream",
     "text": [
      "Number of features 22\n",
      "Selected features [ True False  True  True  True  True False  True  True  True  True  True\n",
      "  True  True  True  True  True  True  True  True False  True  True  True\n",
      "  True]\n",
      "Feature rank [1 2 1 1 1 1 4 1 1 1 1 1 1 1 1 1 1 1 1 1 3 1 1 1 1]\n",
      "Best parameter is 100 with score is 0.897538271223\n",
      "Test data accuracy score with GridSearchCV: 0.896471956258\n",
      "              precision    recall  f1-score   support\n",
      "\n",
      "           0       0.75      0.83      0.79     18723\n",
      "           1       0.95      0.92      0.93     62115\n",
      "\n",
      "   micro avg       0.90      0.90      0.90     80838\n",
      "   macro avg       0.85      0.87      0.86     80838\n",
      "weighted avg       0.90      0.90      0.90     80838\n",
      "\n",
      "()\n",
      "Confusion matrix\n",
      "[[15605  3118]\n",
      " [ 5251 56864]]\n",
      "()\n",
      "print Area Under curve score\n",
      "0.9593938827682074\n"
     ]
    },
    {
     "data": {
      "image/png": "[encoded data removed]",
      "text/plain": [
       "<matplotlib.figure.Figure at 0x23d906a0>"
      ]
     },
     "metadata": {},
     "output_type": "display_data"
    },
    {
     "name": "stdout",
     "output_type": "stream",
     "text": [
      "Number of features 21\n",
      "Selected features [ True False  True False  True  True False  True  True  True  True  True\n",
      "  True  True  True  True  True  True  True  True False  True  True  True\n",
      "  True]\n",
      "Feature rank [1 3 1 2 1 1 5 1 1 1 1 1 1 1 1 1 1 1 1 1 4 1 1 1 1]\n",
      "Best parameter is 10 with score is 0.897590845833\n",
      "Test data accuracy score with GridSearchCV: 0.896496697098\n",
      "              precision    recall  f1-score   support\n",
      "\n",
      "           0       0.75      0.83      0.79     18723\n",
      "           1       0.95      0.92      0.93     62115\n",
      "\n",
      "   micro avg       0.90      0.90      0.90     80838\n",
      "   macro avg       0.85      0.87      0.86     80838\n",
      "weighted avg       0.90      0.90      0.90     80838\n",
      "\n",
      "()\n",
      "Confusion matrix\n",
      "[[15630  3093]\n",
      " [ 5274 56841]]\n",
      "()\n",
      "print Area Under curve score\n",
      "0.959564714722378\n"
     ]
    },
    {
     "data": {
      "image/png": "[encoded data removed]",
      "text/plain": [
       "<matplotlib.figure.Figure at 0x25c105c0>"
      ]
     },
     "metadata": {},
     "output_type": "display_data"
    },
    {
     "name": "stdout",
     "output_type": "stream",
     "text": [
      "Number of features 20\n",
      "Selected features [ True False  True False False  True False  True  True  True  True  True\n",
      "  True  True  True  True  True  True  True  True False  True  True  True\n",
      "  True]\n",
      "Feature rank [1 4 1 3 2 1 6 1 1 1 1 1 1 1 1 1 1 1 1 1 5 1 1 1 1]\n",
      "Best parameter is 0.1 with score is 0.897436214628\n",
      "Test data accuracy score with GridSearchCV: 0.895717360647\n",
      "              precision    recall  f1-score   support\n",
      "\n",
      "           0       0.75      0.83      0.79     18723\n",
      "           1       0.95      0.91      0.93     62115\n",
      "\n",
      "   micro avg       0.90      0.90      0.90     80838\n",
      "   macro avg       0.85      0.87      0.86     80838\n",
      "weighted avg       0.90      0.90      0.90     80838\n",
      "\n",
      "()\n",
      "Confusion matrix\n",
      "[[15625  3098]\n",
      " [ 5332 56783]]\n",
      "()\n",
      "print Area Under curve score\n",
      "0.9595634550265302\n"
     ]
    },
    {
     "data": {
      "image/png": "[encoded data removed]",
      "text/plain": [
       "<matplotlib.figure.Figure at 0x23bc20b8>"
      ]
     },
     "metadata": {},
     "output_type": "display_data"
    },
    {
     "name": "stdout",
     "output_type": "stream",
     "text": [
      "Number of features 19\n",
      "Selected features [ True False  True False False False False  True  True  True  True  True\n",
      "  True  True  True  True  True  True  True  True False  True  True  True\n",
      "  True]\n",
      "Feature rank [1 5 1 4 3 2 7 1 1 1 1 1 1 1 1 1 1 1 1 1 6 1 1 1 1]\n",
      "Best parameter is 0.001 with score is 0.895982681305\n",
      "Test data accuracy score with GridSearchCV: 0.895383359311\n",
      "              precision    recall  f1-score   support\n",
      "\n",
      "           0       0.76      0.80      0.78     18723\n",
      "           1       0.94      0.92      0.93     62115\n",
      "\n",
      "   micro avg       0.90      0.90      0.90     80838\n",
      "   macro avg       0.85      0.86      0.86     80838\n",
      "weighted avg       0.90      0.90      0.90     80838\n",
      "\n",
      "()\n",
      "Confusion matrix\n",
      "[[15046  3677]\n",
      " [ 4780 57335]]\n",
      "()\n",
      "print Area Under curve score\n",
      "0.9581460486980615\n"
     ]
    },
    {
     "data": {
      "image/png": "[encoded data removed]",
      "text/plain": [
       "<matplotlib.figure.Figure at 0x25be4e80>"
      ]
     },
     "metadata": {},
     "output_type": "display_data"
    },
    {
     "name": "stdout",
     "output_type": "stream",
     "text": [
      "Number of features 18\n",
      "Selected features [ True False False False False False False  True  True  True  True  True\n",
      "  True  True  True  True  True  True  True  True False  True  True  True\n",
      "  True]\n",
      "Feature rank [1 6 2 5 4 3 8 1 1 1 1 1 1 1 1 1 1 1 1 1 7 1 1 1 1]\n",
      "Best parameter is 100 with score is 0.895447657337\n",
      "Test data accuracy score with GridSearchCV: 0.8946906158\n",
      "              precision    recall  f1-score   support\n",
      "\n",
      "           0       0.74      0.83      0.79     18723\n",
      "           1       0.95      0.91      0.93     62115\n",
      "\n",
      "   micro avg       0.89      0.89      0.89     80838\n",
      "   macro avg       0.85      0.87      0.86     80838\n",
      "weighted avg       0.90      0.89      0.90     80838\n",
      "\n",
      "()\n",
      "Confusion matrix\n",
      "[[15597  3126]\n",
      " [ 5387 56728]]\n",
      "()\n",
      "print Area Under curve score\n",
      "0.9593461974763099\n"
     ]
    },
    {
     "data": {
      "image/png": "[encoded data removed]",
      "text/plain": [
       "<matplotlib.figure.Figure at 0x25f05828>"
      ]
     },
     "metadata": {},
     "output_type": "display_data"
    },
    {
     "name": "stdout",
     "output_type": "stream",
     "text": [
      "Number of features 17\n",
      "Selected features [ True False False False False False False  True  True  True  True  True\n",
      " False  True  True  True  True  True  True  True False  True  True  True\n",
      "  True]\n",
      "Feature rank [1 7 3 6 5 4 9 1 1 1 1 1 2 1 1 1 1 1 1 1 8 1 1 1 1]\n",
      "Best parameter is 0.1 with score is 0.895633214783\n",
      "Test data accuracy score with GridSearchCV: 0.894208169425\n",
      "              precision    recall  f1-score   support\n",
      "\n",
      "           0       0.74      0.83      0.78     18723\n",
      "           1       0.95      0.91      0.93     62115\n",
      "\n",
      "   micro avg       0.89      0.89      0.89     80838\n",
      "   macro avg       0.84      0.87      0.86     80838\n",
      "weighted avg       0.90      0.89      0.90     80838\n",
      "\n",
      "()\n",
      "Confusion matrix\n",
      "[[15581  3142]\n",
      " [ 5410 56705]]\n",
      "()\n",
      "print Area Under curve score\n",
      "0.9593228299033686\n"
     ]
    },
    {
     "data": {
      "image/png": "[encoded data removed]",
      "text/plain": [
       "<matplotlib.figure.Figure at 0x25bb5438>"
      ]
     },
     "metadata": {},
     "output_type": "display_data"
    },
    {
     "name": "stdout",
     "output_type": "stream",
     "text": [
      "Number of features 16\n",
      "Selected features [False False False False False False False  True  True  True  True  True\n",
      " False  True  True  True  True  True  True  True False  True  True  True\n",
      "  True]\n",
      "Feature rank [ 2  8  4  7  6  5 10  1  1  1  1  1  3  1  1  1  1  1  1  1  9  1  1  1\n",
      "  1]\n",
      "Best parameter is 0.001 with score is 0.896248646977\n",
      "Test data accuracy score with GridSearchCV: 0.895284395952\n",
      "              precision    recall  f1-score   support\n",
      "\n",
      "           0       0.76      0.80      0.78     18723\n",
      "           1       0.94      0.92      0.93     62115\n",
      "\n",
      "   micro avg       0.90      0.90      0.90     80838\n",
      "   macro avg       0.85      0.86      0.86     80838\n",
      "weighted avg       0.90      0.90      0.90     80838\n",
      "\n",
      "()\n",
      "Confusion matrix\n",
      "[[15047  3676]\n",
      " [ 4789 57326]]\n",
      "()\n",
      "print Area Under curve score\n",
      "0.9587391964797444\n"
     ]
    },
    {
     "data": {
      "image/png": "[encoded data removed]",
      "text/plain": [
       "<matplotlib.figure.Figure at 0x23c5fcf8>"
      ]
     },
     "metadata": {},
     "output_type": "display_data"
    },
    {
     "name": "stdout",
     "output_type": "stream",
     "text": [
      "Number of features 15\n",
      "Selected features [False False False False False False False False  True  True  True  True\n",
      " False  True  True  True  True  True  True  True False  True  True  True\n",
      "  True]\n",
      "Feature rank [ 3  9  5  8  7  6 11  2  1  1  1  1  4  1  1  1  1  1  1  1 10  1  1  1\n",
      "  1]\n",
      "Best parameter is 0.001 with score is 0.887586206897\n",
      "Test data accuracy score with GridSearchCV: 0.883891239269\n",
      "              precision    recall  f1-score   support\n",
      "\n",
      "           0       0.72      0.81      0.76     18723\n",
      "           1       0.94      0.91      0.92     62115\n",
      "\n",
      "   micro avg       0.88      0.88      0.88     80838\n",
      "   macro avg       0.83      0.86      0.84     80838\n",
      "weighted avg       0.89      0.88      0.89     80838\n",
      "\n",
      "()\n",
      "Confusion matrix\n",
      "[[15135  3588]\n",
      " [ 5798 56317]]\n",
      "()\n",
      "print Area Under curve score\n",
      "0.9553580541635596\n"
     ]
    },
    {
     "data": {
      "image/png": "[encoded data removed]",
      "text/plain": [
       "<matplotlib.figure.Figure at 0x3f680b8>"
      ]
     },
     "metadata": {},
     "output_type": "display_data"
    },
    {
     "name": "stdout",
     "output_type": "stream",
     "text": [
      "Number of features 14\n",
      "Selected features [False False False False False False False False  True  True  True  True\n",
      " False  True  True  True  True  True  True  True False  True False  True\n",
      "  True]\n",
      "Feature rank [ 4 10  6  9  8  7 12  3  1  1  1  1  5  1  1  1  1  1  1  1 11  1  2  1\n",
      "  1]\n",
      "Best parameter is 0.001 with score is 0.885715169321\n",
      "Test data accuracy score with GridSearchCV: 0.886093174002\n",
      "              precision    recall  f1-score   support\n",
      "\n",
      "           0       0.73      0.81      0.77     18723\n",
      "           1       0.94      0.91      0.92     62115\n",
      "\n",
      "   micro avg       0.89      0.89      0.89     80838\n",
      "   macro avg       0.83      0.86      0.85     80838\n",
      "weighted avg       0.89      0.89      0.89     80838\n",
      "\n",
      "()\n",
      "Confusion matrix\n",
      "[[15135  3588]\n",
      " [ 5620 56495]]\n",
      "()\n",
      "print Area Under curve score\n",
      "0.9554077764653295\n"
     ]
    },
    {
     "data": {
      "image/png": "[encoded data removed]",
      "text/plain": [
       "<matplotlib.figure.Figure at 0x24b74518>"
      ]
     },
     "metadata": {},
     "output_type": "display_data"
    },
    {
     "name": "stdout",
     "output_type": "stream",
     "text": [
      "Number of features 13\n",
      "Selected features [False False False False False False False False  True  True  True  True\n",
      " False  True  True  True  True False  True  True False  True False  True\n",
      "  True]\n",
      "Feature rank [ 5 11  7 10  9  8 13  4  1  1  1  1  6  1  1  1  1  2  1  1 12  1  3  1\n",
      "  1]\n",
      "Best parameter is 0.001 with score is 0.883680222669\n",
      "Test data accuracy score with GridSearchCV: 0.883829387169\n",
      "              precision    recall  f1-score   support\n",
      "\n",
      "           0       0.72      0.80      0.76     18723\n",
      "           1       0.94      0.91      0.92     62115\n",
      "\n",
      "   micro avg       0.88      0.88      0.88     80838\n",
      "   macro avg       0.83      0.86      0.84     80838\n",
      "weighted avg       0.89      0.88      0.89     80838\n",
      "\n",
      "()\n",
      "Confusion matrix\n",
      "[[15063  3660]\n",
      " [ 5731 56384]]\n",
      "()\n",
      "print Area Under curve score\n",
      "0.9550328944204756\n"
     ]
    },
    {
     "data": {
      "image/png": "[encoded data removed]",
      "text/plain": [
       "<matplotlib.figure.Figure at 0x23c88550>"
      ]
     },
     "metadata": {},
     "output_type": "display_data"
    },
    {
     "name": "stdout",
     "output_type": "stream",
     "text": [
      "Number of features 12\n",
      "Selected features [False False False False False False False False  True  True  True  True\n",
      " False  True  True  True  True False False  True False  True False  True\n",
      "  True]\n",
      "Feature rank [ 6 12  8 11 10  9 14  5  1  1  1  1  7  1  1  1  1  3  2  1 13  1  4  1\n",
      "  1]\n",
      "Best parameter is 0.001 with score is 0.883856502242\n",
      "Test data accuracy score with GridSearchCV: 0.883965461788\n",
      "              precision    recall  f1-score   support\n",
      "\n",
      "           0       0.73      0.80      0.76     18723\n",
      "           1       0.94      0.91      0.92     62115\n",
      "\n",
      "   micro avg       0.88      0.88      0.88     80838\n",
      "   macro avg       0.83      0.86      0.84     80838\n",
      "weighted avg       0.89      0.88      0.89     80838\n",
      "\n",
      "()\n",
      "Confusion matrix\n",
      "[[15035  3688]\n",
      " [ 5692 56423]]\n",
      "()\n",
      "print Area Under curve score\n",
      "0.9550091403401735\n"
     ]
    },
    {
     "data": {
      "image/png": "[encoded data removed]",
      "text/plain": [
       "<matplotlib.figure.Figure at 0x1b3a9d30>"
      ]
     },
     "metadata": {},
     "output_type": "display_data"
    },
    {
     "name": "stdout",
     "output_type": "stream",
     "text": [
      "Number of features 11\n",
      "Selected features [False False False False False False False False  True  True  True False\n",
      " False  True  True  True  True False False  True False  True False  True\n",
      "  True]\n",
      "Feature rank [ 7 13  9 12 11 10 15  6  1  1  1  2  8  1  1  1  1  4  3  1 14  1  5  1\n",
      "  1]\n",
      "Best parameter is 1 with score is 0.88532859131\n",
      "Test data accuracy score with GridSearchCV: 0.886018951483\n",
      "              precision    recall  f1-score   support\n",
      "\n",
      "           0       0.72      0.84      0.77     18723\n",
      "           1       0.95      0.90      0.92     62115\n",
      "\n",
      "   micro avg       0.89      0.89      0.89     80838\n",
      "   macro avg       0.83      0.87      0.85     80838\n",
      "weighted avg       0.89      0.89      0.89     80838\n",
      "\n",
      "()\n",
      "Confusion matrix\n",
      "[[15685  3038]\n",
      " [ 6176 55939]]\n",
      "()\n",
      "print Area Under curve score\n",
      "0.9553186261134545\n"
     ]
    },
    {
     "data": {
      "image/png": "[encoded data removed]",
      "text/plain": [
       "<matplotlib.figure.Figure at 0x23e7d400>"
      ]
     },
     "metadata": {},
     "output_type": "display_data"
    },
    {
     "name": "stdout",
     "output_type": "stream",
     "text": [
      "Number of features 10\n",
      "Selected features [False False False False False False False False  True  True  True False\n",
      " False  True  True  True  True False False  True False  True False False\n",
      "  True]\n",
      "Feature rank [ 8 14 10 13 12 11 16  7  1  1  1  3  9  1  1  1  1  5  4  1 15  1  6  2\n",
      "  1]\n",
      "Best parameter is 0.001 with score is 0.883216329055\n",
      "Test data accuracy score with GridSearchCV: 0.883161384497\n",
      "              precision    recall  f1-score   support\n",
      "\n",
      "           0       0.73      0.80      0.76     18723\n",
      "           1       0.94      0.91      0.92     62115\n",
      "\n",
      "   micro avg       0.88      0.88      0.88     80838\n",
      "   macro avg       0.83      0.85      0.84     80838\n",
      "weighted avg       0.89      0.88      0.88     80838\n",
      "\n",
      "()\n",
      "Confusion matrix\n",
      "[[14910  3813]\n",
      " [ 5632 56483]]\n",
      "()\n",
      "print Area Under curve score\n",
      "0.9549412203776019\n"
     ]
    },
    {
     "data": {
      "image/png": "[encoded data removed]",
      "text/plain": [
       "<matplotlib.figure.Figure at 0x273274a8>"
      ]
     },
     "metadata": {},
     "output_type": "display_data"
    },
    {
     "name": "stdout",
     "output_type": "stream",
     "text": [
      "Number of features 9\n",
      "Selected features [False False False False False False False False  True  True  True False\n",
      " False  True  True  True  True False False False False  True False False\n",
      "  True]\n",
      "Feature rank [ 9 15 11 14 13 12 17  8  1  1  1  4 10  1  1  1  1  6  5  2 16  1  7  3\n",
      "  1]\n",
      "Best parameter is 0.001 with score is 0.891170558219\n",
      "Test data accuracy score with GridSearchCV: 0.877879215221\n",
      "              precision    recall  f1-score   support\n",
      "\n",
      "           0       0.70      0.84      0.76     18723\n",
      "           1       0.95      0.89      0.92     62115\n",
      "\n",
      "   micro avg       0.88      0.88      0.88     80838\n",
      "   macro avg       0.82      0.86      0.84     80838\n",
      "weighted avg       0.89      0.88      0.88     80838\n",
      "\n",
      "()\n",
      "Confusion matrix\n",
      "[[15697  3026]\n",
      " [ 6846 55269]]\n",
      "()\n",
      "print Area Under curve score\n",
      "0.954215147598369\n"
     ]
    },
    {
     "data": {
      "image/png": "[encoded data removed]",
      "text/plain": [
       "<matplotlib.figure.Figure at 0x23c95550>"
      ]
     },
     "metadata": {},
     "output_type": "display_data"
    },
    {
     "name": "stdout",
     "output_type": "stream",
     "text": [
      "Number of features 8\n",
      "Selected features [False False False False False False False False  True  True  True False\n",
      " False  True  True False  True False False False False  True False False\n",
      "  True]\n",
      "Feature rank [10 16 12 15 14 13 18  9  1  1  1  5 11  1  1  2  1  7  6  3 17  1  8  4\n",
      "  1]\n",
      "Best parameter is 0.1 with score is 0.878101128808\n",
      "Test data accuracy score with GridSearchCV: 0.87878225587\n",
      "              precision    recall  f1-score   support\n",
      "\n",
      "           0       0.70      0.85      0.76     18723\n",
      "           1       0.95      0.89      0.92     62115\n",
      "\n",
      "   micro avg       0.88      0.88      0.88     80838\n",
      "   macro avg       0.82      0.87      0.84     80838\n",
      "weighted avg       0.89      0.88      0.88     80838\n",
      "\n",
      "()\n",
      "Confusion matrix\n",
      "[[15855  2868]\n",
      " [ 6931 55184]]\n",
      "()\n",
      "print Area Under curve score\n",
      "0.9546237968007586\n"
     ]
    },
    {
     "data": {
      "image/png": "[encoded data removed]",
      "text/plain": [
       "<matplotlib.figure.Figure at 0x25e95a58>"
      ]
     },
     "metadata": {},
     "output_type": "display_data"
    },
    {
     "name": "stdout",
     "output_type": "stream",
     "text": [
      "Number of features 7\n",
      "Selected features [False False False False False False False False  True  True  True False\n",
      " False  True  True False False False False False False  True False False\n",
      "  True]\n",
      "Feature rank [11 17 13 16 15 14 19 10  1  1  1  6 12  1  1  3  2  8  7  4 18  1  9  5\n",
      "  1]\n",
      "Best parameter is 0.1 with score is 0.878101128808\n",
      "Test data accuracy score with GridSearchCV: 0.87878225587\n",
      "              precision    recall  f1-score   support\n",
      "\n",
      "           0       0.70      0.85      0.76     18723\n",
      "           1       0.95      0.89      0.92     62115\n",
      "\n",
      "   micro avg       0.88      0.88      0.88     80838\n",
      "   macro avg       0.82      0.87      0.84     80838\n",
      "weighted avg       0.89      0.88      0.88     80838\n",
      "\n",
      "()\n",
      "Confusion matrix\n",
      "[[15855  2868]\n",
      " [ 6931 55184]]\n",
      "()\n",
      "print Area Under curve score\n",
      "0.9546235521704046\n"
     ]
    },
    {
     "data": {
      "image/png": "[encoded data removed]",
      "text/plain": [
       "<matplotlib.figure.Figure at 0x23c95978>"
      ]
     },
     "metadata": {},
     "output_type": "display_data"
    },
    {
     "name": "stdout",
     "output_type": "stream",
     "text": [
      "Number of features 6\n",
      "Selected features [False False False False False False False False  True  True False False\n",
      " False  True  True False False False False False False  True False False\n",
      "  True]\n",
      "Feature rank [12 18 14 17 16 15 20 11  1  1  2  7 13  1  1  4  3  9  8  5 19  1 10  6\n",
      "  1]\n",
      "Best parameter is 0.001 with score is 0.891210762332\n",
      "Test data accuracy score with GridSearchCV: 0.89128875034\n",
      "              precision    recall  f1-score   support\n",
      "\n",
      "           0       0.75      0.79      0.77     18723\n",
      "           1       0.94      0.92      0.93     62115\n",
      "\n",
      "   micro avg       0.89      0.89      0.89     80838\n",
      "   macro avg       0.84      0.86      0.85     80838\n",
      "weighted avg       0.89      0.89      0.89     80838\n",
      "\n",
      "()\n",
      "Confusion matrix\n",
      "[[14852  3871]\n",
      " [ 4917 57198]]\n",
      "()\n",
      "print Area Under curve score\n",
      "0.9536697715245789\n"
     ]
    },
    {
     "data": {
      "image/png": "[encoded data removed]",
      "text/plain": [
       "<matplotlib.figure.Figure at 0x23e98cc0>"
      ]
     },
     "metadata": {},
     "output_type": "display_data"
    },
    {
     "name": "stdout",
     "output_type": "stream",
     "text": [
      "Number of features 5\n",
      "Selected features [False False False False False False False False  True  True False False\n",
      " False  True  True False False False False False False  True False False\n",
      " False]\n",
      "Feature rank [13 19 15 18 17 16 21 12  1  1  3  8 14  1  1  5  4 10  9  6 20  1 11  7\n",
      "  2]\n",
      "Best parameter is 0.001 with score is 0.883692593165\n",
      "Test data accuracy score with GridSearchCV: 0.88209752839\n",
      "              precision    recall  f1-score   support\n",
      "\n",
      "           0       0.73      0.78      0.75     18723\n",
      "           1       0.93      0.91      0.92     62115\n",
      "\n",
      "   micro avg       0.88      0.88      0.88     80838\n",
      "   macro avg       0.83      0.85      0.84     80838\n",
      "weighted avg       0.89      0.88      0.88     80838\n",
      "\n",
      "()\n",
      "Confusion matrix\n",
      "[[14679  4044]\n",
      " [ 5487 56628]]\n",
      "()\n",
      "print Area Under curve score\n",
      "0.9433214320451121\n"
     ]
    },
    {
     "data": {
      "image/png": "[encoded data removed]",
      "text/plain": [
       "<matplotlib.figure.Figure at 0x26a38a58>"
      ]
     },
     "metadata": {},
     "output_type": "display_data"
    },
    {
     "name": "stdout",
     "output_type": "stream",
     "text": [
      "Number of features 4\n",
      "Selected features [False False False False False False False False  True False False False\n",
      " False  True  True False False False False False False  True False False\n",
      " False]\n",
      "Feature rank [14 20 16 19 18 17 22 13  1  2  4  9 15  1  1  6  5 11 10  7 21  1 12  8\n",
      "  3]\n",
      "Best parameter is 0.001 with score is 0.88197309417\n",
      "Test data accuracy score with GridSearchCV: 0.880835745565\n",
      "              precision    recall  f1-score   support\n",
      "\n",
      "           0       0.73      0.77      0.75     18723\n",
      "           1       0.93      0.91      0.92     62115\n",
      "\n",
      "   micro avg       0.88      0.88      0.88     80838\n",
      "   macro avg       0.83      0.84      0.84     80838\n",
      "weighted avg       0.88      0.88      0.88     80838\n",
      "\n",
      "()\n",
      "Confusion matrix\n",
      "[[14429  4294]\n",
      " [ 5339 56776]]\n",
      "()\n",
      "print Area Under curve score\n",
      "0.9432750296652999\n"
     ]
    },
    {
     "data": {
      "image/png": "[encoded data removed]",
      "text/plain": [
       "<matplotlib.figure.Figure at 0x23b99da0>"
      ]
     },
     "metadata": {},
     "output_type": "display_data"
    },
    {
     "name": "stdout",
     "output_type": "stream",
     "text": [
      "Number of features 3\n",
      "Selected features [False False False False False False False False  True False False False\n",
      " False  True False False False False False False False  True False False\n",
      " False]\n",
      "Feature rank [15 21 17 20 19 18 23 14  1  3  5 10 16  1  2  7  6 12 11  8 22  1 13  9\n",
      "  4]\n",
      "Best parameter is 0.001 with score is 0.86473171486\n",
      "Test data accuracy score with GridSearchCV: 0.865162423613\n",
      "              precision    recall  f1-score   support\n",
      "\n",
      "           0       0.63      1.00      0.77     18723\n",
      "           1       1.00      0.82      0.90     62115\n",
      "\n",
      "   micro avg       0.87      0.87      0.87     80838\n",
      "   macro avg       0.82      0.91      0.84     80838\n",
      "weighted avg       0.91      0.87      0.87     80838\n",
      "\n",
      "()\n",
      "Confusion matrix\n",
      "[[18723     0]\n",
      " [10900 51215]]\n",
      "()\n",
      "print Area Under curve score\n",
      "0.9294715400936961\n"
     ]
    },
    {
     "data": {
      "image/png": "[encoded data removed]",
      "text/plain": [
       "<matplotlib.figure.Figure at 0x2629a6a0>"
      ]
     },
     "metadata": {},
     "output_type": "display_data"
    },
    {
     "name": "stdout",
     "output_type": "stream",
     "text": [
      "Number of features 2\n",
      "Selected features [False False False False False False False False  True False False False\n",
      " False False False False False False False False False  True False False\n",
      " False]\n",
      "Feature rank [16 22 18 21 20 19 24 15  1  4  6 11 17  2  3  8  7 13 12  9 23  1 14 10\n",
      "  5]\n",
      "Best parameter is 0.001 with score is 0.86473171486\n",
      "Test data accuracy score with GridSearchCV: 0.865162423613\n",
      "              precision    recall  f1-score   support\n",
      "\n",
      "           0       0.63      1.00      0.77     18723\n",
      "           1       1.00      0.82      0.90     62115\n",
      "\n",
      "   micro avg       0.87      0.87      0.87     80838\n",
      "   macro avg       0.82      0.91      0.84     80838\n",
      "weighted avg       0.91      0.87      0.87     80838\n",
      "\n",
      "()\n",
      "Confusion matrix\n",
      "[[18723     0]\n",
      " [10900 51215]]\n",
      "()\n",
      "print Area Under curve score\n",
      "0.9122595186347904\n"
     ]
    },
    {
     "data": {
      "image/png": "[encoded data removed]",
      "text/plain": [
       "<matplotlib.figure.Figure at 0x1eb59c18>"
      ]
     },
     "metadata": {},
     "output_type": "display_data"
    }
   ],
   "source": [
    "numberOfFeatures = len(features)\n",
    "j=0;\n",
    "logReg10 = LogisticRegression()\n",
    "Cs = [0.001, 0.1, 1, 10, 100]\n",
    "parameters = {\"C\": Cs}\n",
    "for i in range(numberOfFeatures, 1, -1):\n",
    "    rfe = RFE(logReg10, numberOfFeatures-j)\n",
    "    xtrain, xtest, ytrain, ytest = train_test_split(waHomeLoanDF[features].values, \n",
    "                                              waHomeLoanDF['loan_approval'].values, test_size=.20, random_state=42)\n",
    "    fit = rfe.fit(xtrain, ytrain)\n",
    "    print(\"Number of features {}\".format(fit.n_features_))\n",
    "    print(\"Selected features {}\".format(fit.support_))\n",
    "    print(\"Feature rank {}\".format(fit.ranking_))\n",
    "    selectFeatureDict = dict(zip(features, fit.support_))\n",
    "    selectedfeatures = list()\n",
    "    for key, value in selectFeatureDict.items():\n",
    "        if value:\n",
    "            selectedfeatures.append(key)\n",
    "    xtrain10, xtest10, ytrain10, ytest10 = train_test_split(waHomeLoanDF[selectedfeatures].values, \n",
    "                                              waHomeLoanDF['loan_approval'].values, test_size=.20, random_state=42)\n",
    "    gridSearch = GridSearchCV(logReg10, param_grid=parameters, cv=5, scoring='accuracy')\n",
    "    gridSearch.fit(xtrain10,ytrain10)\n",
    "    print(\"Best parameter is {} with score is {}\".format(gridSearch.best_params_['C'], gridSearch.best_score_))\n",
    "    print('Test data accuracy score with GridSearchCV: {}'.format(gridSearch.score(xtest10,ytest10)))\n",
    "    ytrue10, ypred10 = ytest10, gridSearch.predict(xtest10)\n",
    "    print(classification_report(ytrue10, ypred10))\n",
    "    print()\n",
    "    print(\"Confusion matrix\")\n",
    "    print(confusion_matrix(ytrue10, ypred10))\n",
    "    print()\n",
    "    y_pred_prob10 = gridSearch.predict_proba(xtest10)[:,1]\n",
    "    print(\"print Area Under curve score\")\n",
    "    print(roc_auc_score(ytest10, y_pred_prob10))\n",
    "    fpr, tpr, thresholds = roc_curve(ytest10, y_pred_prob10)\n",
    "    plt.plot([0, 1], [0, 1], 'k--')\n",
    "    plt.plot(fpr, tpr, label='Logistic Regression')\n",
    "    plt.xlabel('False Positive Rate')\n",
    "    plt.ylabel('True Positive Rate')\n",
    "    plt.title('Logistic Regression ROC Curve')\n",
    "    plt.show()\n",
    "    j+=1"
   ]
  },
  {
   "cell_type": "markdown",
   "metadata": {},
   "source": [
    "### Stats model"
   ]
  },
  {
   "cell_type": "code",
   "execution_count": 43,
   "metadata": {
    "collapsed": false
   },
   "outputs": [],
   "source": [
    "xtrain, xtest, ytrain, ytest = train_test_split(waHomeLoanDF[features].values, \n",
    "                                              waHomeLoanDF['loan_approval'].values, test_size=.20, random_state=42)"
   ]
  },
  {
   "cell_type": "code",
   "execution_count": 94,
   "metadata": {
    "collapsed": true
   },
   "outputs": [],
   "source": [
    "from statsmodels.discrete.discrete_model import Logit"
   ]
  },
  {
   "cell_type": "code",
   "execution_count": 95,
   "metadata": {
    "collapsed": false
   },
   "outputs": [],
   "source": [
    "logit_model = Logit(ytrain, xtrain)"
   ]
  },
  {
   "cell_type": "code",
   "execution_count": 96,
   "metadata": {
    "collapsed": false
   },
   "outputs": [
    {
     "name": "stdout",
     "output_type": "stream",
     "text": [
      "Warning: Maximum number of iterations has been exceeded.\n",
      "         Current function value: 0.202891\n",
      "         Iterations: 35\n"
     ]
    }
   ],
   "source": [
    "logit_res = logit_model.fit()"
   ]
  },
  {
   "cell_type": "code",
   "execution_count": 97,
   "metadata": {
    "collapsed": false
   },
   "outputs": [
    {
     "name": "stdout",
     "output_type": "stream",
     "text": [
      "                           Logit Regression Results                           \n",
      "==============================================================================\n",
      "Dep. Variable:                      y   No. Observations:               323350\n",
      "Model:                          Logit   Df Residuals:                   323325\n",
      "Method:                           MLE   Df Model:                           24\n",
      "Date:                Tue, 22 Jan 2019   Pseudo R-squ.:                  0.6251\n",
      "Time:                        19:52:50   Log-Likelihood:                -65605.\n",
      "converged:                      False   LL-Null:                   -1.7498e+05\n",
      "                                        LLR p-value:                     0.000\n",
      "==============================================================================\n",
      "                 coef    std err          z      P>|z|      [0.025      0.975]\n",
      "------------------------------------------------------------------------------\n",
      "x1            -0.0018      0.000     -6.101      0.000      -0.002      -0.001\n",
      "x2         -2.512e-05   8.39e-06     -2.992      0.003   -4.16e-05   -8.67e-06\n",
      "x3            -0.0058      0.001     -9.197      0.000      -0.007      -0.005\n",
      "x4             0.0003    3.8e-05      7.358      0.000       0.000       0.000\n",
      "x5            -0.0002   2.86e-05     -8.206      0.000      -0.000      -0.000\n",
      "x6             0.0016   6.09e-05     26.816      0.000       0.002       0.002\n",
      "x7         -2.129e-05   4.76e-07    -44.686      0.000   -2.22e-05   -2.04e-05\n",
      "x8             0.0061      0.000     38.058      0.000       0.006       0.006\n",
      "x9            23.1649    318.794      0.073      0.942    -601.659     647.989\n",
      "x10           -0.1343      0.034     -4.003      0.000      -0.200      -0.069\n",
      "x11            0.2514      0.018     14.059      0.000       0.216       0.286\n",
      "x12           -0.0060      0.023     -0.268      0.789      -0.050       0.038\n",
      "x13           -0.0282      0.003     -9.494      0.000      -0.034      -0.022\n",
      "x14           -0.6539      0.014    -47.169      0.000      -0.681      -0.627\n",
      "x15            0.5059      0.012     42.557      0.000       0.483       0.529\n",
      "x16            0.0334      0.013      2.620      0.009       0.008       0.058\n",
      "x17           26.8732   2.92e+05    9.2e-05      1.000   -5.73e+05    5.73e+05\n",
      "x18           -0.0244      0.002    -13.944      0.000      -0.028      -0.021\n",
      "x19           -0.0565      0.011     -5.269      0.000      -0.077      -0.035\n",
      "x20            0.0826      0.013      6.343      0.000       0.057       0.108\n",
      "x21        -7.293e-06   3.13e-06     -2.330      0.020   -1.34e-05   -1.16e-06\n",
      "x22           11.8491    506.558      0.023      0.981    -980.986    1004.684\n",
      "x23            0.0996      0.011      8.992      0.000       0.078       0.121\n",
      "x24           -0.0398      0.010     -3.805      0.000      -0.060      -0.019\n",
      "x25            0.4992      0.007     74.406      0.000       0.486       0.512\n",
      "==============================================================================\n",
      "\n",
      "Possibly complete quasi-separation: A fraction 0.63 of observations can be\n",
      "perfectly predicted. This might indicate that there is complete\n",
      "quasi-separation. In this case some parameters will not be identified.\n"
     ]
    }
   ],
   "source": [
    "print(logit_res.summary())"
   ]
  },
  {
   "cell_type": "code",
   "execution_count": null,
   "metadata": {
    "collapsed": true
   },
   "outputs": [],
   "source": [
    "logit_res = logit_model."
   ]
  },
  {
   "cell_type": "code",
   "execution_count": null,
   "metadata": {
    "collapsed": true
   },
   "outputs": [],
   "source": []
  },
  {
   "cell_type": "code",
   "execution_count": null,
   "metadata": {
    "collapsed": true
   },
   "outputs": [],
   "source": []
  },
  {
   "cell_type": "code",
   "execution_count": null,
   "metadata": {
    "collapsed": true
   },
   "outputs": [],
   "source": []
  },
  {
   "cell_type": "code",
   "execution_count": null,
   "metadata": {
    "collapsed": true
   },
   "outputs": [],
   "source": []
  },
  {
   "cell_type": "code",
   "execution_count": null,
   "metadata": {
    "collapsed": true
   },
   "outputs": [],
   "source": []
  },
  {
   "cell_type": "code",
   "execution_count": 90,
   "metadata": {
    "collapsed": false
   },
   "outputs": [],
   "source": [
    "model1 = sm.GLM(ytrain, xtrain, family=sm.families.Binomial())"
   ]
  },
  {
   "cell_type": "code",
   "execution_count": 91,
   "metadata": {
    "collapsed": true
   },
   "outputs": [],
   "source": [
    "model_result1 = model1.fit()"
   ]
  },
  {
   "cell_type": "code",
   "execution_count": 92,
   "metadata": {
    "collapsed": false
   },
   "outputs": [
    {
     "name": "stdout",
     "output_type": "stream",
     "text": [
      "                 Generalized Linear Model Regression Results                  \n",
      "==============================================================================\n",
      "Dep. Variable:                      y   No. Observations:               323350\n",
      "Model:                            GLM   Df Residuals:                   323325\n",
      "Model Family:                Binomial   Df Model:                           24\n",
      "Link Function:                  logit   Scale:                          1.0000\n",
      "Method:                          IRLS   Log-Likelihood:                    nan\n",
      "Date:                Tue, 22 Jan 2019   Deviance:                          nan\n",
      "Time:                        19:48:28   Pearson chi2:                 1.19e+05\n",
      "No. Iterations:                   100   Covariance Type:             nonrobust\n",
      "==============================================================================\n",
      "                 coef    std err          z      P>|z|      [0.025      0.975]\n",
      "------------------------------------------------------------------------------\n",
      "x1            -0.0018      0.000     -6.101      0.000      -0.002      -0.001\n",
      "x2         -2.512e-05   8.39e-06     -2.992      0.003   -4.16e-05   -8.67e-06\n",
      "x3            -0.0058      0.001     -9.197      0.000      -0.007      -0.005\n",
      "x4             0.0003    3.8e-05      7.358      0.000       0.000       0.000\n",
      "x5            -0.0002   2.86e-05     -8.206      0.000      -0.000      -0.000\n",
      "x6             0.0016   6.09e-05     26.816      0.000       0.002       0.002\n",
      "x7         -2.129e-05   4.76e-07    -44.686      0.000   -2.22e-05   -2.04e-05\n",
      "x8             0.0061      0.000     38.058      0.000       0.006       0.006\n",
      "x9            37.3580   5.06e+04      0.001      0.999   -9.92e+04    9.93e+04\n",
      "x10           -0.1343      0.034     -4.003      0.000      -0.200      -0.069\n",
      "x11            0.2514      0.018     14.059      0.000       0.216       0.286\n",
      "x12           -0.0060      0.023     -0.268      0.789      -0.050       0.038\n",
      "x13           -0.0282      0.003     -9.494      0.000      -0.034      -0.022\n",
      "x14           -0.6539      0.014    -47.169      0.000      -0.681      -0.627\n",
      "x15            0.5059      0.012     42.557      0.000       0.483       0.529\n",
      "x16            0.0334      0.013      2.620      0.009       0.008       0.058\n",
      "x17           37.2275   2.02e+07   1.84e-06      1.000   -3.97e+07    3.97e+07\n",
      "x18           -0.0244      0.002    -13.944      0.000      -0.028      -0.021\n",
      "x19           -0.0565      0.011     -5.269      0.000      -0.077      -0.035\n",
      "x20            0.0826      0.013      6.343      0.000       0.057       0.108\n",
      "x21        -7.293e-06   3.13e-06     -2.330      0.020   -1.34e-05   -1.16e-06\n",
      "x22           19.0757   1.76e+05      0.000      1.000   -3.45e+05    3.45e+05\n",
      "x23            0.0996      0.011      8.992      0.000       0.078       0.121\n",
      "x24           -0.0398      0.010     -3.805      0.000      -0.060      -0.019\n",
      "x25            0.4992      0.007     74.406      0.000       0.486       0.512\n",
      "==============================================================================\n"
     ]
    }
   ],
   "source": [
    "print(model_result1.summary())"
   ]
  },
  {
   "cell_type": "code",
   "execution_count": 93,
   "metadata": {
    "collapsed": false
   },
   "outputs": [],
   "source": [
    "res = model_result1.predict(xtest)"
   ]
  },
  {
   "cell_type": "code",
   "execution_count": 48,
   "metadata": {
    "collapsed": false
   },
   "outputs": [
    {
     "data": {
      "text/plain": [
       "array([1.        , 0.20872653, 1.        , ..., 1.        , 1.        ,\n",
       "       1.        ])"
      ]
     },
     "execution_count": 48,
     "metadata": {},
     "output_type": "execute_result"
    }
   ],
   "source": [
    "res"
   ]
  },
  {
   "cell_type": "code",
   "execution_count": null,
   "metadata": {
    "collapsed": true
   },
   "outputs": [],
   "source": [
    "model_result1.predict"
   ]
  },
  {
   "cell_type": "code",
   "execution_count": null,
   "metadata": {
    "collapsed": false
   },
   "outputs": [],
   "source": [
    "print(model_result1.predict())"
   ]
  },
  {
   "cell_type": "code",
   "execution_count": null,
   "metadata": {
    "collapsed": false
   },
   "outputs": [],
   "source": [
    "print(model1.score(model_result1.params))"
   ]
  },
  {
   "cell_type": "markdown",
   "metadata": {},
   "source": [
    "## Random Forest "
   ]
  },
  {
   "cell_type": "code",
   "execution_count": 78,
   "metadata": {
    "collapsed": true
   },
   "outputs": [],
   "source": [
    "from sklearn.ensemble import RandomForestClassifier\n",
    "from sklearn.model_selection import cross_val_score"
   ]
  },
  {
   "cell_type": "code",
   "execution_count": 79,
   "metadata": {
    "collapsed": true
   },
   "outputs": [],
   "source": [
    "xtrain, xtest, ytrain, ytest = train_test_split(waHomeLoanDF[features].values, \n",
    "                                              waHomeLoanDF['loan_approval'].values, test_size=.20, random_state=42)"
   ]
  },
  {
   "cell_type": "code",
   "execution_count": 85,
   "metadata": {
    "collapsed": false
   },
   "outputs": [],
   "source": [
    "randomClf_model = RandomForestClassifier()"
   ]
  },
  {
   "cell_type": "code",
   "execution_count": null,
   "metadata": {
    "collapsed": true
   },
   "outputs": [],
   "source": [
    "max_depth, min_samples_split, "
   ]
  },
  {
   "cell_type": "code",
   "execution_count": 86,
   "metadata": {
    "collapsed": false
   },
   "outputs": [
    {
     "data": {
      "text/plain": [
       "RandomForestClassifier(bootstrap=True, class_weight=None, criterion='gini',\n",
       "            max_depth=None, max_features='auto', max_leaf_nodes=None,\n",
       "            min_impurity_decrease=0.0, min_impurity_split=None,\n",
       "            min_samples_leaf=1, min_samples_split=2,\n",
       "            min_weight_fraction_leaf=0.0, n_estimators=10, n_jobs=None,\n",
       "            oob_score=False, random_state=None, verbose=0,\n",
       "            warm_start=False)"
      ]
     },
     "execution_count": 86,
     "metadata": {},
     "output_type": "execute_result"
    }
   ],
   "source": [
    "randomClf_model.fit(xtrain,ytrain)"
   ]
  },
  {
   "cell_type": "code",
   "execution_count": 87,
   "metadata": {
    "collapsed": false
   },
   "outputs": [
    {
     "data": {
      "text/plain": [
       "array([1, 0, 1, ..., 1, 1, 1], dtype=int64)"
      ]
     },
     "execution_count": 87,
     "metadata": {},
     "output_type": "execute_result"
    }
   ],
   "source": [
    "randomClf_model.predict(xtest)"
   ]
  },
  {
   "cell_type": "code",
   "execution_count": null,
   "metadata": {
    "collapsed": false
   },
   "outputs": [],
   "source": [
    "#all defaults\n",
    "randomClf_model.score(xtrain,ytrain)"
   ]
  },
  {
   "cell_type": "code",
   "execution_count": null,
   "metadata": {
    "collapsed": false
   },
   "outputs": [],
   "source": [
    "# estimator is 2\n",
    "randomClf_model.score(xtrain,ytrain)"
   ]
  },
  {
   "cell_type": "code",
   "execution_count": 88,
   "metadata": {
    "collapsed": false
   },
   "outputs": [
    {
     "data": {
      "text/plain": [
       "0.9029416858408175"
      ]
     },
     "execution_count": 88,
     "metadata": {},
     "output_type": "execute_result"
    }
   ],
   "source": [
    "# estimator is 30\n",
    "randomClf_model.score(xtest,ytest)"
   ]
  },
  {
   "cell_type": "code",
   "execution_count": 51,
   "metadata": {
    "collapsed": false
   },
   "outputs": [
    {
     "name": "stdout",
     "output_type": "stream",
     "text": [
      "None\n"
     ]
    }
   ],
   "source": []
  },
  {
   "cell_type": "code",
   "execution_count": null,
   "metadata": {
    "collapsed": false
   },
   "outputs": [],
   "source": [
    "#feature importance\n",
    "importances = randomClf_model.feature_importances_\n",
    "featureImp_dict = dict(zip(features, importances))\n",
    "print(\"Feature importance ranking\")\n",
    "count = 1\n",
    "for key, value in featureImp_dict.items():\n",
    "    print(\"{}. {} - rank {} - {} \\n\".format(count, key, count, value))\n",
    "    count+=1\n",
    "    \n",
    "#for f in range(xtrain.shape[1]):\n",
    "#    print(\"%d. feature %d (%f)\" % (f + 1, indices[f], importances[indices[f]]))"
   ]
  },
  {
   "cell_type": "code",
   "execution_count": null,
   "metadata": {
    "collapsed": false
   },
   "outputs": [],
   "source": [
    "randomClf_model."
   ]
  },
  {
   "cell_type": "code",
   "execution_count": null,
   "metadata": {
    "collapsed": true
   },
   "outputs": [],
   "source": []
  },
  {
   "cell_type": "code",
   "execution_count": null,
   "metadata": {
    "collapsed": true
   },
   "outputs": [],
   "source": []
  },
  {
   "cell_type": "code",
   "execution_count": null,
   "metadata": {
    "collapsed": true
   },
   "outputs": [],
   "source": []
  },
  {
   "cell_type": "code",
   "execution_count": null,
   "metadata": {
    "collapsed": true
   },
   "outputs": [],
   "source": []
  },
  {
   "cell_type": "code",
   "execution_count": null,
   "metadata": {
    "collapsed": true
   },
   "outputs": [],
   "source": []
  },
  {
   "cell_type": "code",
   "execution_count": null,
   "metadata": {
    "collapsed": true
   },
   "outputs": [],
   "source": []
  },
  {
   "cell_type": "code",
   "execution_count": null,
   "metadata": {
    "collapsed": true
   },
   "outputs": [],
   "source": []
  },
  {
   "cell_type": "code",
   "execution_count": null,
   "metadata": {
    "collapsed": true
   },
   "outputs": [],
   "source": []
  },
  {
   "cell_type": "code",
   "execution_count": null,
   "metadata": {
    "collapsed": true
   },
   "outputs": [],
   "source": []
  },
  {
   "cell_type": "code",
   "execution_count": null,
   "metadata": {
    "collapsed": true
   },
   "outputs": [],
   "source": []
  },
  {
   "cell_type": "code",
   "execution_count": null,
   "metadata": {
    "collapsed": true
   },
   "outputs": [],
   "source": []
  }
 ],
 "metadata": {
  "anaconda-cloud": {},
  "kernelspec": {
   "display_name": "Python [Root]",
   "language": "python",
   "name": "Python [Root]"
  },
  "language_info": {
   "codemirror_mode": {
    "name": "ipython",
    "version": 2
   },
   "file_extension": ".py",
   "mimetype": "text/x-python",
   "name": "python",
   "nbconvert_exporter": "python",
   "pygments_lexer": "ipython2",
   "version": "2.7.12"
  }
 },
 "nbformat": 4,
 "nbformat_minor": 0
}
