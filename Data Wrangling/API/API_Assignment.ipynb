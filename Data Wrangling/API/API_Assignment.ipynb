{
 "cells": [
  {
   "cell_type": "code",
   "execution_count": 1,
   "metadata": {
    "collapsed": true
   },
   "outputs": [],
   "source": [
    "import requests"
   ]
  },
  {
   "cell_type": "markdown",
   "metadata": {},
   "source": [
    "## 1. Collect data from the Franfurt Stock Exchange, for the ticker AFX_X, for the whole year 2017 (keep in mind that the date format is YYYY-MM-DD)"
   ]
  },
  {
   "cell_type": "code",
   "execution_count": 2,
   "metadata": {
    "collapsed": false
   },
   "outputs": [],
   "source": [
    "# Collect data for year 2017 from the Frankfurt Stock Exhange (FSE) for ticker AFX_X\n",
    "r = requests.get('https://www.quandl.com/api/v3/datasets/FSE/AFX_X.json?&start_date=2017-01-01&end_date=2017-12-31&api_key=z9LhMb6HkinHkQPpmsTH')"
   ]
  },
  {
   "cell_type": "markdown",
   "metadata": {},
   "source": [
    "## 2. Convert the returned JSON object into a Python dictionary."
   ]
  },
  {
   "cell_type": "code",
   "execution_count": 4,
   "metadata": {
    "collapsed": false
   },
   "outputs": [
    {
     "name": "stdout",
     "output_type": "stream",
     "text": [
      "<type 'dict'>\n"
     ]
    }
   ],
   "source": [
    "# Read json file to dictionary\n",
    "data_dict = r.json()\n",
    "print(type(data_dict))"
   ]
  },
  {
   "cell_type": "code",
   "execution_count": 5,
   "metadata": {
    "collapsed": false
   },
   "outputs": [],
   "source": [
    "datalist = data_dict['dataset']['data']"
   ]
  },
  {
   "cell_type": "markdown",
   "metadata": {},
   "source": [
    "## 3. Calculate what the highest and lowest opening prices were for the stock in this period."
   ]
  },
  {
   "cell_type": "code",
   "execution_count": 6,
   "metadata": {
    "collapsed": false
   },
   "outputs": [
    {
     "name": "stdout",
     "output_type": "stream",
     "text": [
      "Lowest opening price 34.0\n",
      "Highest opening price 53.11\n"
     ]
    }
   ],
   "source": [
    "# Generate a list of opening prices and print highest and lowest opening prices\n",
    "openprice = [items[1] for items in datalist if(items[1] != None)]\n",
    "print(\"Lowest opening price \" +str(min(openprice)))\n",
    "print(\"Highest opening price \" +str(max(openprice)))"
   ]
  },
  {
   "cell_type": "markdown",
   "metadata": {},
   "source": [
    "## 4. What was the largest change in any one day (based on High and Low price)?"
   ]
  },
  {
   "cell_type": "code",
   "execution_count": 7,
   "metadata": {
    "collapsed": false
   },
   "outputs": [
    {
     "name": "stdout",
     "output_type": "stream",
     "text": [
      "2.81\n"
     ]
    }
   ],
   "source": [
    "# Generate a list of change in price (based on High and low price) and print largest price change in a day\n",
    "largestchange = [(items[2] - items[3]) for items in datalist]\n",
    "print(max(largestchange))"
   ]
  },
  {
   "cell_type": "markdown",
   "metadata": {},
   "source": [
    "## 5. What was the largest change between any two days (based on Closing Price)?"
   ]
  },
  {
   "cell_type": "code",
   "execution_count": 8,
   "metadata": {
    "collapsed": false
   },
   "outputs": [
    {
     "name": "stdout",
     "output_type": "stream",
     "text": [
      "2.56\n"
     ]
    }
   ],
   "source": [
    "# Generate a list of closing prices and loop through the list to find the largest change in closing value\n",
    "\n",
    "closingprice = [items[4] for items in datalist if(items[4] != None)]\n",
    "\n",
    "change = 0.0\n",
    "maxdif = 0.0\n",
    "for i in range(len(closingprice)):\n",
    "    if i < (len(closingprice)-1):\n",
    "        change = abs(closingprice[i] - closingprice[i+1])\n",
    "        if change > maxdif:\n",
    "            maxdif = change\n",
    "\n",
    "print(maxdif)"
   ]
  },
  {
   "cell_type": "markdown",
   "metadata": {},
   "source": [
    "## 6. What was the average daily trading volume during this year?"
   ]
  },
  {
   "cell_type": "code",
   "execution_count": 9,
   "metadata": {
    "collapsed": false
   },
   "outputs": [
    {
     "name": "stdout",
     "output_type": "stream",
     "text": [
      "Average Traded Volume 89124.3372549\n"
     ]
    }
   ],
   "source": [
    "# Generate a list of traded volume and print average of daily traded volume\n",
    "tradedvolume = [items[6] for items in datalist if(items[6] != None)]\n",
    "print(\"Average Traded Volume \" +str(sum(tradedvolume)/len(tradedvolume)))"
   ]
  },
  {
   "cell_type": "markdown",
   "metadata": {},
   "source": [
    "## 7. (Optional) What was the median trading volume during this year. (Note: you may need to implement your own function for calculating the median.)"
   ]
  },
  {
   "cell_type": "code",
   "execution_count": 10,
   "metadata": {
    "collapsed": true
   },
   "outputs": [],
   "source": [
    "# Median function to get median traded volume\n",
    "def tradedVolMedian(tradevol):\n",
    "    tradevol_sort = sorted(tradevol)\n",
    "    if len(tradevol_sort) % 2 == 1:\n",
    "        return tradevol_sort[int((len(tradevol_sort))/2)]\n",
    "    else:\n",
    "        medi1 = tradevol_sort[int(len(tradevol_sort)/2-1)]\n",
    "        medi2 = tradevol_sort[int(len(tradevol_sort)/2)]\n",
    "        return (float(medi1 + medi2)) / 2"
   ]
  },
  {
   "cell_type": "code",
   "execution_count": 11,
   "metadata": {
    "collapsed": false
   },
   "outputs": [
    {
     "name": "stdout",
     "output_type": "stream",
     "text": [
      "Median Traded Volume 76286.0\n"
     ]
    }
   ],
   "source": [
    "#Print median traded volume\n",
    "print(\"Median Traded Volume \"+str(tradedVolMedian(tradedvolume)))"
   ]
  }
 ],
 "metadata": {
  "anaconda-cloud": {},
  "kernelspec": {
   "display_name": "Python [Root]",
   "language": "python",
   "name": "Python [Root]"
  },
  "language_info": {
   "codemirror_mode": {
    "name": "ipython",
    "version": 2
   },
   "file_extension": ".py",
   "mimetype": "text/x-python",
   "name": "python",
   "nbconvert_exporter": "python",
   "pygments_lexer": "ipython2",
   "version": "2.7.12"
  }
 },
 "nbformat": 4,
 "nbformat_minor": 0
}
