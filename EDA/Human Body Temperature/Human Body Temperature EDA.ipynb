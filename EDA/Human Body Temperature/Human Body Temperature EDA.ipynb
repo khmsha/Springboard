{
 "cells": [
  {
   "cell_type": "markdown",
   "metadata": {},
   "source": [
    "# What is the True Normal Human Body Temperature? \n",
    "\n",
    "#### Background\n",
    "\n",
    "The mean normal body temperature was held to be 37$^{\\circ}$C or 98.6$^{\\circ}$F for more than 120 years since it was first conceptualized and reported by Carl Wunderlich in a famous 1868 book. But, is this value statistically correct?"
   ]
  },
  {
   "cell_type": "markdown",
   "metadata": {},
   "source": [
    "<h3>Exercises</h3>\n",
    "\n",
    "<p>In this exercise, you will analyze a dataset of human body temperatures and employ the concepts of hypothesis testing, confidence intervals, and statistical significance.</p>\n",
    "\n",
    "<p>Answer the following questions <b>in this notebook below and submit to your Github account</b>.</p> \n",
    "\n",
    "<ol>\n",
    "<li>  Is the distribution of body temperatures normal? \n",
    "    <ul>\n",
    "    <li> Although this is not a requirement for the Central Limit Theorem to hold (read the introduction on Wikipedia's page about the CLT carefully: https://en.wikipedia.org/wiki/Central_limit_theorem), it gives us some peace of mind that the population may also be normally distributed if we assume that this sample is representative of the population.\n",
    "    <li> Think about the way you're going to check for the normality of the distribution. Graphical methods are usually used first, but there are also other ways: https://en.wikipedia.org/wiki/Normality_test\n",
    "    </ul>\n",
    "<li>  Is the sample size large? Are the observations independent?\n",
    "    <ul>\n",
    "    <li> Remember that this is a condition for the Central Limit Theorem, and hence the statistical tests we are using, to apply.\n",
    "    </ul>\n",
    "<li>  Is the true population mean really 98.6 degrees F?\n",
    "    <ul>\n",
    "    <li> First, try a bootstrap hypothesis test.\n",
    "    <li> Now, let's try frequentist statistical testing. Would you use a one-sample or two-sample test? Why?\n",
    "    <li> In this situation, is it appropriate to use the $t$ or $z$ statistic? \n",
    "    <li> Now try using the other test. How is the result be different? Why?\n",
    "    </ul>\n",
    "<li>  Draw a small sample of size 10 from the data and repeat both frequentist tests. \n",
    "    <ul>\n",
    "    <li> Which one is the correct one to use? \n",
    "    <li> What do you notice? What does this tell you about the difference in application of the $t$ and $z$ statistic?\n",
    "    </ul>\n",
    "<li>  At what temperature should we consider someone's temperature to be \"abnormal\"?\n",
    "    <ul>\n",
    "    <li> As in the previous example, try calculating everything using the boostrap approach, as well as the frequentist approach.\n",
    "    <li> Start by computing the margin of error and confidence interval. When calculating the confidence interval, keep in mind that you should use the appropriate formula for one draw, and not N draws.\n",
    "    </ul>\n",
    "<li>  Is there a significant difference between males and females in normal temperature?\n",
    "    <ul>\n",
    "    <li> What testing approach did you use and why?\n",
    "    <li> Write a story with your conclusion in the context of the original problem.\n",
    "    </ul>\n",
    "</ol>\n",
    "\n",
    "You can include written notes in notebook cells using Markdown: \n",
    "   - In the control panel at the top, choose Cell > Cell Type > Markdown\n",
    "   - Markdown syntax: http://nestacms.com/docs/creating-content/markdown-cheat-sheet\n",
    "\n",
    "#### Resources\n",
    "\n",
    "+ Information and data sources: http://www.amstat.org/publications/jse/datasets/normtemp.txt, http://www.amstat.org/publications/jse/jse_data_archive.htm\n",
    "+ Markdown syntax: http://nestacms.com/docs/creating-content/markdown-cheat-sheet\n",
    "\n",
    "****"
   ]
  },
  {
   "cell_type": "code",
   "execution_count": 1,
   "metadata": {
    "collapsed": true
   },
   "outputs": [],
   "source": [
    "#import libraries\n",
    "\n",
    "import pandas as pd\n",
    "import seaborn as sns\n",
    "import numpy as np\n",
    "import matplotlib.pyplot as plt\n",
    "from scipy import stats"
   ]
  },
  {
   "cell_type": "code",
   "execution_count": 2,
   "metadata": {
    "collapsed": true
   },
   "outputs": [],
   "source": [
    "# Load sample data\n",
    "df = pd.read_csv('data/human_body_temperature.csv')"
   ]
  },
  {
   "cell_type": "code",
   "execution_count": 3,
   "metadata": {
    "collapsed": false
   },
   "outputs": [
    {
     "data": {
      "text/html": [
       "<div>\n",
       "<style scoped>\n",
       "    .dataframe tbody tr th:only-of-type {\n",
       "        vertical-align: middle;\n",
       "    }\n",
       "\n",
       "    .dataframe tbody tr th {\n",
       "        vertical-align: top;\n",
       "    }\n",
       "\n",
       "    .dataframe thead th {\n",
       "        text-align: right;\n",
       "    }\n",
       "</style>\n",
       "<table border=\"1\" class=\"dataframe\">\n",
       "  <thead>\n",
       "    <tr style=\"text-align: right;\">\n",
       "      <th></th>\n",
       "      <th>temperature</th>\n",
       "      <th>gender</th>\n",
       "      <th>heart_rate</th>\n",
       "    </tr>\n",
       "  </thead>\n",
       "  <tbody>\n",
       "    <tr>\n",
       "      <th>0</th>\n",
       "      <td>99.3</td>\n",
       "      <td>F</td>\n",
       "      <td>68.0</td>\n",
       "    </tr>\n",
       "    <tr>\n",
       "      <th>1</th>\n",
       "      <td>98.4</td>\n",
       "      <td>F</td>\n",
       "      <td>81.0</td>\n",
       "    </tr>\n",
       "    <tr>\n",
       "      <th>2</th>\n",
       "      <td>97.8</td>\n",
       "      <td>M</td>\n",
       "      <td>73.0</td>\n",
       "    </tr>\n",
       "    <tr>\n",
       "      <th>3</th>\n",
       "      <td>99.2</td>\n",
       "      <td>F</td>\n",
       "      <td>66.0</td>\n",
       "    </tr>\n",
       "    <tr>\n",
       "      <th>4</th>\n",
       "      <td>98.0</td>\n",
       "      <td>F</td>\n",
       "      <td>73.0</td>\n",
       "    </tr>\n",
       "  </tbody>\n",
       "</table>\n",
       "</div>"
      ],
      "text/plain": [
       "   temperature gender  heart_rate\n",
       "0         99.3      F        68.0\n",
       "1         98.4      F        81.0\n",
       "2         97.8      M        73.0\n",
       "3         99.2      F        66.0\n",
       "4         98.0      F        73.0"
      ]
     },
     "execution_count": 3,
     "metadata": {},
     "output_type": "execute_result"
    }
   ],
   "source": [
    "# inspect header\n",
    "df.head()"
   ]
  },
  {
   "cell_type": "markdown",
   "metadata": {},
   "source": [
    "# Is the distribution of body temperatures normal?"
   ]
  },
  {
   "cell_type": "code",
   "execution_count": 4,
   "metadata": {
    "collapsed": false
   },
   "outputs": [
    {
     "data": {
      "image/png": "[encoded data removed]",
      "text/plain": [
       "<matplotlib.figure.Figure at 0x120499b0>"
      ]
     },
     "metadata": {},
     "output_type": "display_data"
    }
   ],
   "source": [
    "# draw histogram of temperatures\n",
    "\n",
    "%matplotlib inline\n",
    "plt.subplots(figsize=(15,12))\n",
    "sns.distplot(df.temperature)\n",
    "plt.title('Histogram of Temperature')\n",
    "plt.xlabel('Temperature ($^\\circ$F)')\n",
    "plt.ylabel('PDF')\n",
    "plt.grid()\n",
    "plt.show()"
   ]
  },
  {
   "cell_type": "code",
   "execution_count": 5,
   "metadata": {
    "collapsed": true
   },
   "outputs": [],
   "source": [
    "#Define cumulative normal distribution function\n",
    "def ecdf(data):\n",
    "    n=len(data)\n",
    "    x = np.sort(data)\n",
    "    y = np.arange(1.0000, n+1)/n\n",
    "    return x,y"
   ]
  },
  {
   "cell_type": "code",
   "execution_count": 6,
   "metadata": {
    "collapsed": false
   },
   "outputs": [
    {
     "name": "stdout",
     "output_type": "stream",
     "text": [
      "temperature mean 98.2492307692\n"
     ]
    }
   ],
   "source": [
    "# calculate temperature mean of the population sample\n",
    "\n",
    "temp_mean = np.mean(df.temperature)\n",
    "print('temperature mean '+ str(temp_mean))"
   ]
  },
  {
   "cell_type": "code",
   "execution_count": 7,
   "metadata": {
    "collapsed": false
   },
   "outputs": [
    {
     "name": "stdout",
     "output_type": "stream",
     "text": [
      "temperature Standard Deviation 0.730357778905\n"
     ]
    }
   ],
   "source": [
    "# calculate temperature Std deviation of the population sample\n",
    "\n",
    "temp_stdDev = np.std(df.temperature)\n",
    "print('temperature Standard Deviation '+ str(temp_stdDev))"
   ]
  },
  {
   "cell_type": "code",
   "execution_count": 8,
   "metadata": {
    "collapsed": false
   },
   "outputs": [
    {
     "data": {
      "text/plain": [
       "array([98.6742336 , 96.46671841, 99.42171494, ..., 98.73267613,\n",
       "       98.09043896, 98.78673995])"
      ]
     },
     "execution_count": 8,
     "metadata": {},
     "output_type": "execute_result"
    }
   ],
   "source": [
    "# generate samples using mean and std deviation of population sample\n",
    "\n",
    "samples = np.random.normal(temp_mean, temp_stdDev, size=10000)\n",
    "samples"
   ]
  },
  {
   "cell_type": "code",
   "execution_count": 9,
   "metadata": {
    "collapsed": false
   },
   "outputs": [],
   "source": [
    "# calculate ecdf of population sample\n",
    "\n",
    "x, y = ecdf(df.temperature)"
   ]
  },
  {
   "cell_type": "code",
   "execution_count": 10,
   "metadata": {
    "collapsed": true
   },
   "outputs": [],
   "source": [
    "# calculate ecdf of theoretical sample\n",
    "\n",
    "x_theor, y_theor = ecdf(samples)"
   ]
  },
  {
   "cell_type": "code",
   "execution_count": 12,
   "metadata": {
    "collapsed": false
   },
   "outputs": [
    {
     "data": {
      "image/png": "[encoded data removed]",
      "text/plain": [
       "<matplotlib.figure.Figure at 0x14d67438>"
      ]
     },
     "metadata": {},
     "output_type": "display_data"
    }
   ],
   "source": [
    "# plot cumulative normal distribution function\n",
    "\n",
    "%matplotlib inline\n",
    "plt.subplots(figsize=(15,12))\n",
    "plt.title('CDF')\n",
    "sns.set()\n",
    "_ = plt.plot(x_theor, y_theor)\n",
    "_ = plt.plot(x, y, marker='.', linestyle='none', color= 'red')\n",
    "_ = plt.xlabel('Temperature ($^\\circ$F)')\n",
    "_ = plt.ylabel('CDF')\n",
    "plt.show()"
   ]
  },
  {
   "cell_type": "markdown",
   "metadata": {},
   "source": [
    "From above graphs it can be inferred that the distribution of temperature is normal."
   ]
  },
  {
   "cell_type": "markdown",
   "metadata": {},
   "source": [
    "# Is the sample size large? Are the observations independent?"
   ]
  },
  {
   "cell_type": "code",
   "execution_count": 13,
   "metadata": {
    "collapsed": false
   },
   "outputs": [
    {
     "name": "stdout",
     "output_type": "stream",
     "text": [
      "130\n"
     ]
    }
   ],
   "source": [
    "print(len(df.temperature))"
   ]
  },
  {
   "cell_type": "markdown",
   "metadata": {},
   "source": [
    "Sample size is greater than 30 and hence as per Central Limit Theorem observations are independent."
   ]
  },
  {
   "cell_type": "markdown",
   "metadata": {},
   "source": [
    "# Is the true population mean really 98.6 degrees F?"
   ]
  },
  {
   "cell_type": "markdown",
   "metadata": {},
   "source": [
    "### Bootstrap Method"
   ]
  },
  {
   "cell_type": "code",
   "execution_count": 14,
   "metadata": {
    "collapsed": true
   },
   "outputs": [],
   "source": [
    "# Function to generate bootstrap samples\n",
    "def comp_bssamples(data, func):\n",
    "    bs = np.random.choice(data, len(data))\n",
    "    return func(bs)"
   ]
  },
  {
   "cell_type": "code",
   "execution_count": 15,
   "metadata": {
    "collapsed": true
   },
   "outputs": [],
   "source": [
    "def comp_bsreplicates(data, func, size):\n",
    "    bs_rep = np.empty(size)\n",
    "    for i in range(size):\n",
    "        bs_rep[i] = comp_bssamples(data, func)\n",
    "    return bs_rep"
   ]
  },
  {
   "cell_type": "code",
   "execution_count": 16,
   "metadata": {
    "collapsed": false
   },
   "outputs": [
    {
     "data": {
      "text/plain": [
       "array([98.27076923, 98.33153846, 98.22923077, ..., 98.18307692,\n",
       "       98.26692308, 98.17307692])"
      ]
     },
     "execution_count": 16,
     "metadata": {},
     "output_type": "execute_result"
    }
   ],
   "source": [
    "# Draw bootstrap replicates of the mean temperature\n",
    "bs_rep = comp_bsreplicates(df.temperature, np.mean, 10000)\n",
    "bs_rep"
   ]
  },
  {
   "cell_type": "code",
   "execution_count": 17,
   "metadata": {
    "collapsed": false
   },
   "outputs": [
    {
     "data": {
      "text/plain": [
       "array([98.12230769, 98.37307692])"
      ]
     },
     "execution_count": 17,
     "metadata": {},
     "output_type": "execute_result"
    }
   ],
   "source": [
    "# Compute 95% confidence interval\n",
    "conf_interval = np.percentile(bs_rep, [2.5, 97.5])\n",
    "conf_interval"
   ]
  },
  {
   "cell_type": "markdown",
   "metadata": {},
   "source": [
    "True population mean does not lie within 95% confidence interval. Hence null hypothesis can be rejected."
   ]
  },
  {
   "cell_type": "markdown",
   "metadata": {},
   "source": [
    "### Frequentist Statistical Method"
   ]
  },
  {
   "cell_type": "markdown",
   "metadata": {},
   "source": [
    "#### Z statistic"
   ]
  },
  {
   "cell_type": "markdown",
   "metadata": {},
   "source": [
    "In this test we will be using one sample testing since there is one data set which is compared to a single value.\n",
    "Z statistic is used, because sample size is greater than 30 and is normally distributed. "
   ]
  },
  {
   "cell_type": "code",
   "execution_count": 18,
   "metadata": {
    "collapsed": true
   },
   "outputs": [],
   "source": [
    "#Define z test function\n",
    "\n",
    "def zTest(data):\n",
    "    \"\"\" (sample mean - population mean) divide by (estimate of population std dev/sqrt(sample size))\"\"\"\n",
    "    #compute sample mean\n",
    "    smp_mean = np.mean(data)\n",
    "    \n",
    "    #Estimate std dev of population mean\n",
    "    est_pop_Stddev = np.std(data)/np.sqrt(len(data))\n",
    "    \n",
    "    zscore = (smp_mean-98.6)/est_pop_Stddev\n",
    "    pvalue = stats.norm.cdf(zscore)*2\n",
    "    conf_interval = stats.norm.interval(alpha=0.05,loc=smp_mean,scale=est_pop_Stddev)\n",
    "    print('Z score: ', zscore)\n",
    "    print('p value: ', pvalue)\n",
    "    print('Confidence Interval: ', conf_interval)"
   ]
  },
  {
   "cell_type": "code",
   "execution_count": 19,
   "metadata": {
    "collapsed": false
   },
   "outputs": [
    {
     "name": "stdout",
     "output_type": "stream",
     "text": [
      "('Z score: ', -5.475925202078116)\n",
      "('p value: ', 4.3523151658821886e-08)\n",
      "('Confidence Interval: ', (98.24521398531729, 98.25324755314426))\n"
     ]
    }
   ],
   "source": [
    "# Calulate T test hypothesis\n",
    "\n",
    "zTest(df.temperature)"
   ]
  },
  {
   "cell_type": "markdown",
   "metadata": {
    "collapsed": false
   },
   "source": [
    "#### T statistic"
   ]
  },
  {
   "cell_type": "code",
   "execution_count": 20,
   "metadata": {
    "collapsed": true
   },
   "outputs": [],
   "source": [
    "#Define z test function\n",
    "\n",
    "def tTest(data):\n",
    "    \"\"\" (sample mean - population mean) divide by (estimate of population std dev/sqrt(sample size))\"\"\"\n",
    "    #compute sample mean\n",
    "    smp_mean = np.mean(data)\n",
    "    \n",
    "    #Estimate std dev of population mean\n",
    "    est_pop_Stddev = np.std(data)/np.sqrt(len(data))\n",
    "    \n",
    "    tscore,t_pvalue = stats.ttest_1samp(data,98.6)\n",
    "    dof = len(data) - 1\n",
    "    conf_interval = stats.t.interval(alpha=0.05, df=dof, loc= smp_mean, scale= est_pop_Stddev)\n",
    "    \n",
    "    print('t score: ', tscore)\n",
    "    print('p value: ', t_pvalue)\n",
    "    print('confidence interval: ', conf_interval)"
   ]
  },
  {
   "cell_type": "code",
   "execution_count": 21,
   "metadata": {
    "collapsed": false
   },
   "outputs": [
    {
     "name": "stdout",
     "output_type": "stream",
     "text": [
      "('t score: ', -5.4548232923645195)\n",
      "('p value: ', 2.4106320415561276e-07)\n",
      "('confidence interval: ', (98.24520616261418, 98.25325537584737))\n"
     ]
    }
   ],
   "source": [
    "# Calulate T test hypothesis\n",
    "\n",
    "tTest(df.temperature)"
   ]
  },
  {
   "cell_type": "markdown",
   "metadata": {
    "collapsed": true
   },
   "source": [
    "Since p is almost zero we can reject the null hypothesis."
   ]
  },
  {
   "cell_type": "markdown",
   "metadata": {},
   "source": [
    "# Draw a small sample of size 10 from the data and repeat both frequentist tests.\n",
    "Which one is the correct one to use?\n",
    "What do you notice? What does this tell you about the difference in application of the  tt  and  zz  statistic?"
   ]
  },
  {
   "cell_type": "code",
   "execution_count": 22,
   "metadata": {
    "collapsed": false
   },
   "outputs": [],
   "source": [
    "# generate sample size of 10\n",
    "\n",
    "np.random.seed(seed=42)\n",
    "sample_size10 = np.random.choice(df.temperature, size=10)"
   ]
  },
  {
   "cell_type": "code",
   "execution_count": 23,
   "metadata": {
    "collapsed": false
   },
   "outputs": [
    {
     "name": "stdout",
     "output_type": "stream",
     "text": [
      "('Z score: ', -3.260780417008125)\n",
      "('p value: ', 0.001111060453904971)\n",
      "('Confidence Interval: ', (98.03942316762917, 98.06057683237083))\n"
     ]
    }
   ],
   "source": [
    "zTest(sample_size10)"
   ]
  },
  {
   "cell_type": "code",
   "execution_count": 24,
   "metadata": {
    "collapsed": false
   },
   "outputs": [
    {
     "name": "stdout",
     "output_type": "stream",
     "text": [
      "('t score: ', -3.0934479202257976)\n",
      "('p value: ', 0.012857704604809363)\n",
      "('confidence interval: ', (98.03912461741646, 98.06087538258353))\n"
     ]
    }
   ],
   "source": [
    "tTest(sample_size10)"
   ]
  },
  {
   "cell_type": "markdown",
   "metadata": {},
   "source": [
    "T statistic is the correct one to use because sample size is less than 30. Results are same because sample is same for both the methods."
   ]
  },
  {
   "cell_type": "markdown",
   "metadata": {},
   "source": [
    "# At what temperature should we consider someone's temperature to be \"abnormal\"?\n",
    "As in the previous example, try calculating everything using the boostrap approach, as well as the frequentist approach.\n",
    "Start by computing the margin of error and confidence interval. When calculating the confidence interval, keep in mind that you should use the appropriate formula for one draw, and not N draws"
   ]
  },
  {
   "cell_type": "code",
   "execution_count": 25,
   "metadata": {
    "collapsed": false
   },
   "outputs": [
    {
     "name": "stdout",
     "output_type": "stream",
     "text": [
      "('z-critical value:', 1.959963984540054)\n",
      "('Margin of errror: ', 0.12554865777413815)\n",
      "('Confidence interval:', (98.12368211145665, 98.37477942700491))\n",
      "\n",
      "\n",
      "Temperature outside confidence interval is abnormal, so temperatures outside (98.12368211145665, 98.37477942700491) is abnormal\n"
     ]
    }
   ],
   "source": [
    "#calculate z critical\n",
    "\n",
    "z_critical = stats.norm.ppf(q = 0.975) \n",
    "\n",
    "print(\"z-critical value:\", z_critical)                                     \n",
    "\n",
    "temp_mean = np.mean(df.temperature)\n",
    "temp_std = np.std(df.temperature)\n",
    "\n",
    "# calculate margin of error\n",
    "margin_of_error = z_critical * (temp_std/np.sqrt(len(df.temperature)))\n",
    "\n",
    "# calculate confidence interval for margin of error\n",
    "confidence_interval = (temp_mean - margin_of_error,\n",
    "                       temp_mean + margin_of_error)  \n",
    "\n",
    "print(\"Margin of errror: \", margin_of_error)\n",
    "print(\"Confidence interval:\", confidence_interval)\n",
    "print(\"\\n\")\n",
    "print(\"Temperature outside confidence interval is abnormal, so temperatures outside \"+str(confidence_interval)+ \" is abnormal\")"
   ]
  },
  {
   "cell_type": "markdown",
   "metadata": {},
   "source": [
    "# Is there a significant difference between males and females in normal temperature?\n",
    "What testing approach did you use and why?\n",
    "Write a story with your conclusion in the context of the original problem."
   ]
  },
  {
   "cell_type": "code",
   "execution_count": 26,
   "metadata": {
    "collapsed": false
   },
   "outputs": [
    {
     "data": {
      "text/html": [
       "<div>\n",
       "<style scoped>\n",
       "    .dataframe tbody tr th:only-of-type {\n",
       "        vertical-align: middle;\n",
       "    }\n",
       "\n",
       "    .dataframe tbody tr th {\n",
       "        vertical-align: top;\n",
       "    }\n",
       "\n",
       "    .dataframe thead th {\n",
       "        text-align: right;\n",
       "    }\n",
       "</style>\n",
       "<table border=\"1\" class=\"dataframe\">\n",
       "  <thead>\n",
       "    <tr style=\"text-align: right;\">\n",
       "      <th></th>\n",
       "      <th>temperature</th>\n",
       "      <th>gender</th>\n",
       "      <th>heart_rate</th>\n",
       "    </tr>\n",
       "  </thead>\n",
       "  <tbody>\n",
       "    <tr>\n",
       "      <th>0</th>\n",
       "      <td>99.3</td>\n",
       "      <td>F</td>\n",
       "      <td>68.0</td>\n",
       "    </tr>\n",
       "    <tr>\n",
       "      <th>1</th>\n",
       "      <td>98.4</td>\n",
       "      <td>F</td>\n",
       "      <td>81.0</td>\n",
       "    </tr>\n",
       "    <tr>\n",
       "      <th>2</th>\n",
       "      <td>97.8</td>\n",
       "      <td>M</td>\n",
       "      <td>73.0</td>\n",
       "    </tr>\n",
       "    <tr>\n",
       "      <th>3</th>\n",
       "      <td>99.2</td>\n",
       "      <td>F</td>\n",
       "      <td>66.0</td>\n",
       "    </tr>\n",
       "    <tr>\n",
       "      <th>4</th>\n",
       "      <td>98.0</td>\n",
       "      <td>F</td>\n",
       "      <td>73.0</td>\n",
       "    </tr>\n",
       "  </tbody>\n",
       "</table>\n",
       "</div>"
      ],
      "text/plain": [
       "   temperature gender  heart_rate\n",
       "0         99.3      F        68.0\n",
       "1         98.4      F        81.0\n",
       "2         97.8      M        73.0\n",
       "3         99.2      F        66.0\n",
       "4         98.0      F        73.0"
      ]
     },
     "execution_count": 26,
     "metadata": {},
     "output_type": "execute_result"
    }
   ],
   "source": [
    "df.head()"
   ]
  },
  {
   "cell_type": "code",
   "execution_count": 27,
   "metadata": {
    "collapsed": false
   },
   "outputs": [],
   "source": [
    "# male temperature sample\n",
    "\n",
    "mSample = df.temperature[df.gender == 'M']"
   ]
  },
  {
   "cell_type": "code",
   "execution_count": 28,
   "metadata": {
    "collapsed": false
   },
   "outputs": [],
   "source": [
    "# female temperature sample\n",
    "\n",
    "fSample = df.temperature[df.gender == 'F']"
   ]
  },
  {
   "cell_type": "code",
   "execution_count": 29,
   "metadata": {
    "collapsed": false
   },
   "outputs": [
    {
     "data": {
      "image/png": "[encoded data removed]",
      "text/plain": [
       "<matplotlib.figure.Figure at 0x15086cf8>"
      ]
     },
     "metadata": {},
     "output_type": "display_data"
    }
   ],
   "source": [
    "# Histogram of Male and Female temperatures\n",
    "\n",
    "%matplotlib inline\n",
    "plt.subplots(figsize=(15,12))\n",
    "sns.distplot(mSample, color='blue', \n",
    "             hist_kws={\"histtype\": \"step\", \"linewidth\": 1, \"alpha\": 1, \"color\": \"blue\"})\n",
    "sns.distplot(fSample, color='red', \n",
    "            hist_kws={\"histtype\": \"step\", \"linewidth\": 1, \"alpha\": 1, \"color\": \"red\"})\n",
    "plt.yticks(np.arange(0, 1, step=0.1))\n",
    "plt.title('Histogram of Male/Female temperatures')\n",
    "plt.xlabel('Temperature ($^\\circ$F)')\n",
    "plt.ylabel('PDF')\n",
    "plt.grid()\n",
    "plt.show()"
   ]
  },
  {
   "cell_type": "code",
   "execution_count": 30,
   "metadata": {
    "collapsed": false
   },
   "outputs": [
    {
     "data": {
      "text/plain": [
       "array([98.28769231, 98.38153846, 98.23307692, ..., 98.24692308,\n",
       "       98.21538462, 98.29      ])"
      ]
     },
     "execution_count": 30,
     "metadata": {},
     "output_type": "execute_result"
    }
   ],
   "source": [
    "#draw bootstrap replicates for male and female temperatures\n",
    "\n",
    "bs_rep = comp_bsreplicates(df.temperature, np.mean, 10000)\n",
    "bs_rep"
   ]
  },
  {
   "cell_type": "code",
   "execution_count": 31,
   "metadata": {
    "collapsed": false
   },
   "outputs": [
    {
     "data": {
      "text/plain": [
       "array([98.12461538, 98.37540385])"
      ]
     },
     "execution_count": 31,
     "metadata": {},
     "output_type": "execute_result"
    }
   ],
   "source": [
    "# Compute 95% confidence interval\n",
    "conf_interval = np.percentile(bs_rep, [2.5, 97.5])\n",
    "conf_interval"
   ]
  },
  {
   "cell_type": "code",
   "execution_count": 32,
   "metadata": {
    "collapsed": false
   },
   "outputs": [],
   "source": [
    "#Calculate ecdf of male temperatures\n",
    "\n",
    "x_m, y_m = ecdf(mSample)"
   ]
  },
  {
   "cell_type": "code",
   "execution_count": 33,
   "metadata": {
    "collapsed": true
   },
   "outputs": [],
   "source": [
    "#Calculate ecdf of female temperatures\n",
    "\n",
    "x_f, y_f = ecdf(fSample)"
   ]
  },
  {
   "cell_type": "code",
   "execution_count": 35,
   "metadata": {
    "collapsed": false
   },
   "outputs": [
    {
     "data": {
      "image/png": "[encoded data removed]",
      "text/plain": [
       "<matplotlib.figure.Figure at 0x152243c8>"
      ]
     },
     "metadata": {},
     "output_type": "display_data"
    }
   ],
   "source": [
    "# Draw cumulative distribution of male and female temperatures\n",
    "\n",
    "%matplotlib inline\n",
    "plt.subplots(figsize=(15,12))\n",
    "plt.title('CDF')\n",
    "sns.set()\n",
    "_ = plt.plot(x_f, y_f)\n",
    "_ = plt.plot(x_m, y_m, marker='.', linestyle='none', color ='red')\n",
    "_ = plt.xlabel('Temperature ($^\\circ$F)')\n",
    "_ = plt.ylabel('CDF')\n",
    "plt.show()"
   ]
  },
  {
   "cell_type": "markdown",
   "metadata": {
    "collapsed": true
   },
   "source": [
    "### Permutation Test"
   ]
  },
  {
   "cell_type": "code",
   "execution_count": 36,
   "metadata": {
    "collapsed": false
   },
   "outputs": [],
   "source": [
    "# define function for generating permutation replicates\n",
    "\n",
    "def draw_perm_reps(data, func, size=1):\n",
    "    perm_replicates = np.empty(size)\n",
    "    length = int(len(data)/2)\n",
    "    for i in range(size):\n",
    "        permutation_sample_1 = data[0:length]\n",
    "        permutation_sample_2 = data[length:]\n",
    "        perm_replicates[i] = func(permutation_sample_1) - func(permutation_sample_2)\n",
    "    return perm_replicates"
   ]
  },
  {
   "cell_type": "code",
   "execution_count": 37,
   "metadata": {
    "collapsed": false
   },
   "outputs": [
    {
     "name": "stdout",
     "output_type": "stream",
     "text": [
      "('95% confidence interval ', array([0.04307692, 0.04307692]))\n",
      "('difference in female and male temperature', 0.289230769230727)\n",
      "('P-value', 0)\n"
     ]
    }
   ],
   "source": [
    "# draw permutation replicates\n",
    "permutation_reps = draw_perm_reps(df.temperature, np.mean, 10000)\n",
    "\n",
    "# compute confidence interval\n",
    "mfTemp_confInterval = np.percentile(permutation_reps, [2.5, 97.5])\n",
    "print('95% confidence interval ', mfTemp_confInterval)\n",
    "\n",
    "# difference in mean of male and female temperature means\n",
    "mean_difference = np.mean(fSample) - np.mean(mSample)\n",
    "print('difference in female and male temperature', mean_difference)\n",
    "\n",
    "# Calcuate p value\n",
    "pvalue_mftempDiff = np.sum(permutation_reps >= mean_difference)/len(permutation_reps)\n",
    "print('P-value', pvalue_mftempDiff)"
   ]
  },
  {
   "cell_type": "markdown",
   "metadata": {
    "collapsed": true
   },
   "source": [
    "P-value is zero so we can reject null hypothesis"
   ]
  },
  {
   "cell_type": "markdown",
   "metadata": {
    "collapsed": true
   },
   "source": [
    "### Frequentist"
   ]
  },
  {
   "cell_type": "code",
   "execution_count": 38,
   "metadata": {
    "collapsed": false
   },
   "outputs": [
    {
     "data": {
      "text/plain": [
       "Ttest_indResult(statistic=-2.2854345381656103, pvalue=0.02393188312239561)"
      ]
     },
     "execution_count": 38,
     "metadata": {},
     "output_type": "execute_result"
    }
   ],
   "source": [
    "# Calculate p value and z score for male and female temperatures\n",
    "\n",
    "stats.ttest_ind(a=mSample,b=fSample)"
   ]
  },
  {
   "cell_type": "markdown",
   "metadata": {},
   "source": [
    "P-value is less than 0.05 so we can reject null hypothesis"
   ]
  },
  {
   "cell_type": "markdown",
   "metadata": {
    "collapsed": true
   },
   "source": [
    "# Conclusion\n",
    "\n",
    "1. Temperature values in sample proportion are normally distributed.\n",
    "2. Mean human body temperature is not 98.6 which generally considered mean human body temperature.\n",
    "3. Normal human body temperatures are in the range of (98.12368211145665, 98.37477942700491).\n",
    "4. Male and female mean body temperatures are not same. Females have slightly higher temperature than males."
   ]
  }
 ],
 "metadata": {
  "anaconda-cloud": {},
  "kernelspec": {
   "display_name": "Python [Anaconda2]",
   "language": "python",
   "name": "Python [Anaconda2]"
  },
  "language_info": {
   "codemirror_mode": {
    "name": "ipython",
    "version": 2
   },
   "file_extension": ".py",
   "mimetype": "text/x-python",
   "name": "python",
   "nbconvert_exporter": "python",
   "pygments_lexer": "ipython2",
   "version": "2.7.12"
  }
 },
 "nbformat": 4,
 "nbformat_minor": 1
}
